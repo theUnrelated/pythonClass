{
 "cells": [
  {
   "cell_type": "markdown",
   "metadata": {},
   "source": [
    "# Lesson 37 - Quick Sort\n",
    "This lesson will introduce another sorting algorithm - Quick sort\n",
    "\n",
    "## Recap\n",
    "\n",
    "Merge Sort"
   ]
  },
  {
   "cell_type": "code",
   "execution_count": null,
   "metadata": {},
   "outputs": [],
   "source": []
  },
  {
   "cell_type": "markdown",
   "metadata": {},
   "source": [
    "Recursion"
   ]
  },
  {
   "cell_type": "code",
   "execution_count": null,
   "metadata": {},
   "outputs": [],
   "source": []
  },
  {
   "cell_type": "markdown",
   "metadata": {},
   "source": [
    "Queue and Stacks"
   ]
  },
  {
   "cell_type": "code",
   "execution_count": null,
   "metadata": {},
   "outputs": [],
   "source": []
  },
  {
   "cell_type": "markdown",
   "metadata": {},
   "source": [
    "### Quick sort\n",
    "Another divide and conquer algorithm\n",
    "\n",
    "<img src=\"https://upload.wikimedia.org/wikipedia/commons/6/6a/Sorting_quicksort_anim.gif\">"
   ]
  },
  {
   "cell_type": "code",
   "execution_count": null,
   "metadata": {},
   "outputs": [],
   "source": []
  },
  {
   "cell_type": "markdown",
   "metadata": {},
   "source": [
    "### Exercise 1 - Code to quicksort\n",
    "Run and trace the code and explain what each line is doing using comments. \n",
    "\n",
    "Then add, at relevant areas, the process that is taking place. E.g dividing, comparing, merging."
   ]
  },
  {
   "cell_type": "code",
   "execution_count": null,
   "metadata": {},
   "outputs": [],
   "source": [
    "# def partition(array, start, end):\n",
    "#     pivot = array[start]\n",
    "#     low = start + 1\n",
    "#     high = end\n",
    "\n",
    "#     while True:\n",
    "#         while low <= high and array[high] >= pivot:\n",
    "#             high = high - 1\n",
    "#         while low <= high and array[low] <= pivot:\n",
    "#             low = low + 1\n",
    "#         if low <= high:\n",
    "#             array[low], array[high] = array[high], array[low]\n",
    "#         else:\n",
    "#             break\n",
    "#     array[start], array[high] = array[high], array[start]\n",
    "#     return high\n",
    "\n",
    "# def quick_sort(array, start, end):\n",
    "#     if start >= end:\n",
    "#         return\n",
    "#     p = partition(array, start, end)\n",
    "#     quick_sort(array, start, p-1)\n",
    "#     quick_sort(array, p+1, end)\n",
    "    \n",
    "\n",
    "# array = [65,25,34,14,13,17,22,99,87,63,32,12,63,54,26,82,12,12,12]\n",
    "\n",
    "# quick_sort(array, 0, len(array) - 1)\n",
    "# print(array)"
   ]
  },
  {
   "cell_type": "markdown",
   "metadata": {},
   "source": [
    "### Exercise 2\n",
    "Copy, paste and modify the code above to return a sorted list from largest to smallest and omitting repeated integers."
   ]
  },
  {
   "cell_type": "code",
   "execution_count": null,
   "metadata": {},
   "outputs": [],
   "source": []
  },
  {
   "cell_type": "markdown",
   "metadata": {},
   "source": [
    "### Review\n",
    "- Quick sort algorithm"
   ]
  },
  {
   "cell_type": "code",
   "execution_count": null,
   "metadata": {},
   "outputs": [],
   "source": []
  }
 ],
 "metadata": {
  "kernelspec": {
   "display_name": "Python 3",
   "language": "python",
   "name": "python3"
  },
  "language_info": {
   "codemirror_mode": {
    "name": "ipython",
    "version": 3
   },
   "file_extension": ".py",
   "mimetype": "text/x-python",
   "name": "python",
   "nbconvert_exporter": "python",
   "pygments_lexer": "ipython3",
   "version": "3.7.9"
  }
 },
 "nbformat": 4,
 "nbformat_minor": 4
}
