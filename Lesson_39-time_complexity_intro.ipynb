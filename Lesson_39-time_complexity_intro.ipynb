{
 "cells": [
  {
   "cell_type": "markdown",
   "metadata": {},
   "source": [
    "# Lesson 39 - Time Space Complexity\n",
    "This lesson will introduce the basic concepts of time and space complexity in terms of computing\n",
    "\n",
    "## Recap\n",
    "\n",
    "Algorithms"
   ]
  },
  {
   "cell_type": "code",
   "execution_count": null,
   "metadata": {},
   "outputs": [],
   "source": []
  },
  {
   "cell_type": "markdown",
   "metadata": {},
   "source": [
    "OOP"
   ]
  },
  {
   "cell_type": "code",
   "execution_count": null,
   "metadata": {},
   "outputs": [],
   "source": []
  },
  {
   "cell_type": "markdown",
   "metadata": {},
   "source": [
    "Higher-order functions"
   ]
  },
  {
   "cell_type": "code",
   "execution_count": null,
   "metadata": {},
   "outputs": [],
   "source": []
  },
  {
   "cell_type": "markdown",
   "metadata": {},
   "source": [
    "### Time complexity\n",
    "By now, you should understand that there are plenty of ways and methods to solve one task or question already. \n",
    "\n",
    "However, we need to understand which method is better than the other and why. \n",
    "\n",
    "This is important as the tasks we aim to solve grows in size much larger than what we see in classes. For example we can have **millions of entries** or a **few gb** of data to process. \n",
    "\n",
    "<img src=\"https://adrianmejia.com/images/big-o-running-time-complexity.png\" width=\"600\">\n",
    "\n",
    "We often use the `big O` notation to denote time complexities. <br> Lets look at some examples"
   ]
  },
  {
   "cell_type": "code",
   "execution_count": null,
   "metadata": {},
   "outputs": [],
   "source": [
    "## O(1)\n",
    "# def f(ls: list) -> int:\n",
    "#     return ls[0]\n",
    "# f([1234])"
   ]
  },
  {
   "cell_type": "code",
   "execution_count": null,
   "metadata": {},
   "outputs": [],
   "source": [
    "## O(n) \n",
    "## Finding max in list of `n` items. Linear Time\n",
    "# def f(ls:list) -> int:\n",
    "#     final = 0\n",
    "#     for i in ls:\n",
    "#         print(\"It is now \", i)\n",
    "#         final = i if i > final else final\n",
    "#     return final\n",
    "    \n",
    "# f([2,3,4,5,6,7,1])"
   ]
  },
  {
   "cell_type": "code",
   "execution_count": null,
   "metadata": {},
   "outputs": [],
   "source": [
    "## O(n**2) \n",
    "## Finding duplicates in a list of `n` items. Quadratic time\n",
    "# def f(ls:list) -> int:\n",
    "#     for one in range(len(ls)):\n",
    "#         currentNumber = ls[one]\n",
    "#         for two in range(len(ls)):\n",
    "#             if one != two and currentNumber == ls[two]:\n",
    "#                 return currentNumber\n",
    "# f([5,6,3,7,8,9,3,2,1,4])"
   ]
  },
  {
   "cell_type": "code",
   "execution_count": null,
   "metadata": {},
   "outputs": [],
   "source": [
    "## O(2**n)\n",
    "## Recursions"
   ]
  },
  {
   "cell_type": "code",
   "execution_count": null,
   "metadata": {},
   "outputs": [],
   "source": [
    "## O(Log n)\n",
    "## Binary Search Algorithm"
   ]
  },
  {
   "cell_type": "code",
   "execution_count": null,
   "metadata": {},
   "outputs": [],
   "source": [
    "## O(nLog n)\n",
    "## Merge Sort Algorithm"
   ]
  },
  {
   "cell_type": "markdown",
   "metadata": {},
   "source": [
    "### Exercise 1 \n",
    "Trace the codes. Then type down what it does and answer what is the time complexity.  "
   ]
  },
  {
   "cell_type": "code",
   "execution_count": null,
   "metadata": {},
   "outputs": [],
   "source": [
    "# A\n",
    "# def find(ls:list, target: int) -> list:\n",
    "#     final = []\n",
    "#     for i in ls:\n",
    "#         for k in ls:\n",
    "#             if i+k == target:\n",
    "#                 final.append([i,k])\n",
    "#             if len(final) >= 3:\n",
    "#                 break\n",
    "#     return final\n",
    "# find([1,2,3,4,5,6,7,8,9,10],5)"
   ]
  },
  {
   "cell_type": "code",
   "execution_count": null,
   "metadata": {},
   "outputs": [],
   "source": [
    "# B\n",
    "# def manage(ls:list) -> int:\n",
    "#     curr1 = 0\n",
    "#     for i in ls:\n",
    "#          curr1 = i if i > curr1 else curr1\n",
    "#     curr2 = 100\n",
    "#     for i in ls:\n",
    "#         curr2 = i if i < curr2 else curr2\n",
    "#     return curr1 - curr2\n",
    "# manage([-5,4,3,26,-124,2314,543,1,-12,-2222])"
   ]
  },
  {
   "cell_type": "code",
   "execution_count": null,
   "metadata": {
    "scrolled": true
   },
   "outputs": [],
   "source": [
    "# C\n",
    "# def powow(x: float, t: int) -> float:\n",
    "#     if t == 1:\n",
    "#         return x\n",
    "#     return powow(x*x, t-1)\n",
    "# powow(123, 2)"
   ]
  },
  {
   "cell_type": "code",
   "execution_count": null,
   "metadata": {},
   "outputs": [],
   "source": []
  },
  {
   "cell_type": "markdown",
   "metadata": {},
   "source": [
    "### Exercise 2\n",
    "For each function above, find whether it is possible to improve the time and space complexity. "
   ]
  },
  {
   "cell_type": "code",
   "execution_count": null,
   "metadata": {},
   "outputs": [],
   "source": []
  },
  {
   "cell_type": "markdown",
   "metadata": {},
   "source": [
    "### Review\n",
    "- Time Complexity"
   ]
  },
  {
   "cell_type": "code",
   "execution_count": null,
   "metadata": {},
   "outputs": [],
   "source": []
  }
 ],
 "metadata": {
  "kernelspec": {
   "display_name": "Python 3",
   "language": "python",
   "name": "python3"
  },
  "language_info": {
   "codemirror_mode": {
    "name": "ipython",
    "version": 3
   },
   "file_extension": ".py",
   "mimetype": "text/x-python",
   "name": "python",
   "nbconvert_exporter": "python",
   "pygments_lexer": "ipython3",
   "version": "3.7.9"
  }
 },
 "nbformat": 4,
 "nbformat_minor": 4
}
