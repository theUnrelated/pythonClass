{
 "cells": [
  {
   "cell_type": "markdown",
   "metadata": {},
   "source": [
    "# Lesson 25 - Higher order functions\n",
    "This lesson will go through what are higher order functions\n",
    "\n",
    "## Recap\n",
    "\n",
    "one-liner `if else`, `while-loop` and `for-loop`"
   ]
  },
  {
   "cell_type": "code",
   "execution_count": null,
   "metadata": {},
   "outputs": [],
   "source": []
  },
  {
   "cell_type": "markdown",
   "metadata": {},
   "source": [
    "Try-catch"
   ]
  },
  {
   "cell_type": "code",
   "execution_count": null,
   "metadata": {},
   "outputs": [],
   "source": []
  },
  {
   "cell_type": "markdown",
   "metadata": {},
   "source": [
    "Generators"
   ]
  },
  {
   "cell_type": "code",
   "execution_count": null,
   "metadata": {},
   "outputs": [],
   "source": []
  },
  {
   "cell_type": "markdown",
   "metadata": {},
   "source": [
    "### Why \"Higher order\"?\n",
    "The functions we have created so far are considered one-dimensional and can only bring your code as far as your function goes. \n",
    "\n",
    "BUT...\n",
    "\n",
    "can we put functions in a function? \n",
    "Lets first write in a mathematical formula function."
   ]
  },
  {
   "cell_type": "code",
   "execution_count": null,
   "metadata": {},
   "outputs": [],
   "source": [
    "# def execute(a, b):\n",
    "#     return ..."
   ]
  },
  {
   "cell_type": "markdown",
   "metadata": {},
   "source": [
    "Now what if we want to change the execute function to other mathematical formulas? \n",
    "We would have to define the whole function again!\n",
    "\n",
    "Is there a better way? \n",
    "\n",
    "**hint**: Use anonymous functions"
   ]
  },
  {
   "cell_type": "code",
   "execution_count": null,
   "metadata": {},
   "outputs": [],
   "source": []
  },
  {
   "cell_type": "markdown",
   "metadata": {},
   "source": [
    "So what are higher order functions?"
   ]
  },
  {
   "cell_type": "code",
   "execution_count": null,
   "metadata": {},
   "outputs": [],
   "source": []
  },
  {
   "cell_type": "markdown",
   "metadata": {},
   "source": [
    "**Put on your thinking cap**\n",
    "\n",
    "What else can be considered higher-order functions?"
   ]
  },
  {
   "cell_type": "code",
   "execution_count": null,
   "metadata": {},
   "outputs": [],
   "source": []
  },
  {
   "cell_type": "markdown",
   "metadata": {},
   "source": [
    "### Exercise 1 \n",
    "create a versatile **named** function that returns a function. Then, use that function. "
   ]
  },
  {
   "cell_type": "code",
   "execution_count": null,
   "metadata": {},
   "outputs": [],
   "source": []
  },
  {
   "cell_type": "markdown",
   "metadata": {},
   "source": [
    "### Exercise 2\n",
    "\n",
    "Read, understand, add in the type specifications. <br>\n",
    "Then trace and predict what it will do. <br>\n",
    "Verify your prediction."
   ]
  },
  {
   "cell_type": "code",
   "execution_count": null,
   "metadata": {},
   "outputs": [],
   "source": [
    "# def q(a):\n",
    "#     def b(a):\n",
    "#         return a\n",
    "#     return b(a)\n",
    "# q(1234) will ....."
   ]
  },
  {
   "cell_type": "code",
   "execution_count": null,
   "metadata": {},
   "outputs": [],
   "source": [
    "# def func(a): \n",
    "#     variable_a = \"Hi\"\n",
    "#     def func2():\n",
    "#         variable_a = \"Bye\"\n",
    "#         return variable_a\n",
    "#     return variable_a\n",
    "# func(1) "
   ]
  },
  {
   "cell_type": "code",
   "execution_count": null,
   "metadata": {},
   "outputs": [],
   "source": [
    "# def foo(func):  \n",
    " \n",
    "#     def inner1():  \n",
    "#         print(\"Hello, this is before function execution\")  \n",
    "#         func()  \n",
    "#         print(\"This is after function execution\")  \n",
    "#     return inner1  \n",
    "    \n",
    "# def function_to_be_used():  \n",
    "#     print(\"This is inside the function !!\")  \n",
    "    \n",
    "# function_to_be_used = foo(function_to_be_used)  \n",
    "# function_to_be_used()  # What happens first?"
   ]
  },
  {
   "cell_type": "markdown",
   "metadata": {},
   "source": [
    "### Review\n",
    "- Higher order functions"
   ]
  },
  {
   "cell_type": "code",
   "execution_count": null,
   "metadata": {},
   "outputs": [],
   "source": []
  }
 ],
 "metadata": {
  "kernelspec": {
   "display_name": "Python 3",
   "language": "python",
   "name": "python3"
  },
  "language_info": {
   "codemirror_mode": {
    "name": "ipython",
    "version": 3
   },
   "file_extension": ".py",
   "mimetype": "text/x-python",
   "name": "python",
   "nbconvert_exporter": "python",
   "pygments_lexer": "ipython3",
   "version": "3.7.9"
  }
 },
 "nbformat": 4,
 "nbformat_minor": 4
}
