{
 "cells": [
  {
   "cell_type": "markdown",
   "metadata": {},
   "source": [
    "# Lesson 10 - and / or\n",
    "This lesson will lead you through more in-depth on boolean variable.\n",
    "\n",
    "## Recap\n",
    "\n",
    "Comparators and boolean"
   ]
  },
  {
   "cell_type": "code",
   "execution_count": null,
   "metadata": {},
   "outputs": [],
   "source": []
  },
  {
   "cell_type": "markdown",
   "metadata": {},
   "source": [
    "If else"
   ]
  },
  {
   "cell_type": "code",
   "execution_count": null,
   "metadata": {
    "scrolled": true
   },
   "outputs": [],
   "source": []
  },
  {
   "cell_type": "markdown",
   "metadata": {},
   "source": [
    "### AND / OR\n",
    "\n",
    "Now let us dive into more complicated logic through **and** and **or**\n",
    "\n",
    "What do you understand from this?"
   ]
  },
  {
   "cell_type": "code",
   "execution_count": null,
   "metadata": {},
   "outputs": [],
   "source": [
    "# True and True\n",
    "# True or True"
   ]
  },
  {
   "cell_type": "code",
   "execution_count": null,
   "metadata": {},
   "outputs": [],
   "source": []
  },
  {
   "cell_type": "markdown",
   "metadata": {},
   "source": [
    "Creating a truth-table with if-else\n",
    "\n",
    "![Imgur](https://i.imgur.com/msLaHA3.png)"
   ]
  },
  {
   "cell_type": "code",
   "execution_count": null,
   "metadata": {},
   "outputs": [],
   "source": [
    "# if True and True:\n",
    "#     print(\"True and True will give True\")"
   ]
  },
  {
   "cell_type": "code",
   "execution_count": null,
   "metadata": {},
   "outputs": [],
   "source": []
  },
  {
   "cell_type": "markdown",
   "metadata": {},
   "source": [
    "Combining it with the various comparators"
   ]
  },
  {
   "cell_type": "code",
   "execution_count": null,
   "metadata": {},
   "outputs": [],
   "source": [
    "# number_1 = 192\n",
    "# if number_1 > 200:\n",
    "#     print(\"it printed!\"\")"
   ]
  },
  {
   "cell_type": "markdown",
   "metadata": {},
   "source": [
    "### Exercise 1 - Debugging\n",
    "Debug and check the following code.\n"
   ]
  },
  {
   "cell_type": "code",
   "execution_count": null,
   "metadata": {},
   "outputs": [],
   "source": [
    "# my_number = input\"Give me your number: \")\n",
    "# other_number = input(\"And another number please: )\n",
    "# third_number = 100\n",
    "# if my_number > oth_number or my_number > third_number:\n",
    "#                 print(My number is the largest here!)\n",
    "# elif my_number <= oth_numbr or my_number <third_number:\n",
    "#                      print(My number is the second largest!)\n",
    "# else:\n",
    "#     print(\"my number is the smallest :/\")"
   ]
  },
  {
   "cell_type": "markdown",
   "metadata": {},
   "source": [
    "Can you think of an alternative way to code the above and/or simplify it?"
   ]
  },
  {
   "cell_type": "code",
   "execution_count": null,
   "metadata": {},
   "outputs": [],
   "source": []
  },
  {
   "cell_type": "markdown",
   "metadata": {},
   "source": [
    "### Exercise 2 - Code along!\n",
    "\n",
    "A fruit stall has 3 types of fruits - Apple, banana and durian. <br>\n",
    "The owner wanted to keep stock of all the fruits, but he lost count. <br>\n",
    "Can you guess how many apples, bananas and durian he has if he only remembers that:\n",
    "\n",
    "1) He has 4 more apples than bananas\n",
    "2) He has 19 more durians than apples\n"
   ]
  },
  {
   "cell_type": "code",
   "execution_count": null,
   "metadata": {},
   "outputs": [],
   "source": []
  },
  {
   "cell_type": "markdown",
   "metadata": {},
   "source": [
    "### Review\n",
    "\n",
    "- and\n",
    "- or"
   ]
  },
  {
   "cell_type": "code",
   "execution_count": null,
   "metadata": {},
   "outputs": [],
   "source": []
  }
 ],
 "metadata": {
  "kernelspec": {
   "display_name": "Python 3",
   "language": "python",
   "name": "python3"
  },
  "language_info": {
   "codemirror_mode": {
    "name": "ipython",
    "version": 3
   },
   "file_extension": ".py",
   "mimetype": "text/x-python",
   "name": "python",
   "nbconvert_exporter": "python",
   "pygments_lexer": "ipython3",
   "version": "3.7.9"
  }
 },
 "nbformat": 4,
 "nbformat_minor": 4
}
