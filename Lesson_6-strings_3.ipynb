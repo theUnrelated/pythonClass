{
 "cells": [
  {
   "cell_type": "markdown",
   "metadata": {},
   "source": [
    "# Lesson 6 - strings_3\n",
    "This lesson will lead you through the string indexing\n",
    "\n",
    "## Recap\n",
    "\n",
    "Types of variables - writing, casting and comments"
   ]
  },
  {
   "cell_type": "code",
   "execution_count": null,
   "metadata": {},
   "outputs": [],
   "source": []
  },
  {
   "cell_type": "markdown",
   "metadata": {},
   "source": [
    "Concatenation and formatting strings"
   ]
  },
  {
   "cell_type": "code",
   "execution_count": null,
   "metadata": {
    "scrolled": true
   },
   "outputs": [],
   "source": []
  },
  {
   "cell_type": "markdown",
   "metadata": {},
   "source": [
    "String functions and checkers"
   ]
  },
  {
   "cell_type": "code",
   "execution_count": null,
   "metadata": {},
   "outputs": [],
   "source": []
  },
  {
   "cell_type": "markdown",
   "metadata": {},
   "source": [
    "### String indexes\n",
    "<center><img src=\"https://i.imgur.com/yJsv5z4.png\" width=\"400\" /></center>\n",
    "\n",
    "<font size=\"15pt;\"> <center> Element vs Index </center></font>\n",
    "<br>\n",
    "**`str[index]`**"
   ]
  },
  {
   "cell_type": "code",
   "execution_count": null,
   "metadata": {},
   "outputs": [],
   "source": [
    "# current_string = \"foobar\"\n",
    "# current_string[0]"
   ]
  },
  {
   "cell_type": "code",
   "execution_count": null,
   "metadata": {},
   "outputs": [],
   "source": []
  },
  {
   "cell_type": "markdown",
   "metadata": {},
   "source": [
    "What if I want to have multiple indexes?<br>\n",
    "`string`[`start`:`stop`:`step`]"
   ]
  },
  {
   "cell_type": "code",
   "execution_count": null,
   "metadata": {
    "scrolled": true
   },
   "outputs": [],
   "source": []
  },
  {
   "cell_type": "code",
   "execution_count": null,
   "metadata": {},
   "outputs": [],
   "source": [
    "# \"Faisnddftchxeztrrquweesftgrvibnyg\" <-- Find the string \"Findthetruestring\" in this!"
   ]
  },
  {
   "cell_type": "markdown",
   "metadata": {},
   "source": [
    "Spaces in slicing"
   ]
  },
  {
   "cell_type": "code",
   "execution_count": null,
   "metadata": {},
   "outputs": [],
   "source": [
    "# \"Print the space in this\""
   ]
  },
  {
   "cell_type": "markdown",
   "metadata": {},
   "source": [
    "### Exercise 1 - Slice and Dice\n",
    "All the ingredients you ordered came in a box! \n",
    "<br>\n",
    "Separate all the ingredients and verify them by printing them out.\n",
    "\"TurkeyHoneyCabbageBananaAppleBeefCornEggplantCoconutWheatRoastedlamb\""
   ]
  },
  {
   "cell_type": "code",
   "execution_count": null,
   "metadata": {},
   "outputs": [],
   "source": [
    "# ingredient_box = \"TurkeyHoneyCabbageBananaAppleBeefCornEggplantCoconutWheatRoastedlamb\""
   ]
  },
  {
   "cell_type": "markdown",
   "metadata": {},
   "source": [
    "Is there a faster way to do this? <br>\n",
    "\n",
    "**Hint**: Think backwards!"
   ]
  },
  {
   "cell_type": "code",
   "execution_count": null,
   "metadata": {},
   "outputs": [],
   "source": []
  },
  {
   "cell_type": "markdown",
   "metadata": {},
   "source": [
    "### Exercise 2 \n",
    "Split the following string to form proper sentences.\n",
    "\n",
    "1) Codinginpythonisawesome --> Coding in Python is Awesome<br>\n",
    "2) Thisistooeasyforme --> This is too easy for me<br>\n",
    "3) MakethismorechallengingPlease --> Make this more challenging please<br>\n",
    "4) NOWThIS12isMOreLIK3It --> Now this is more like it"
   ]
  },
  {
   "cell_type": "code",
   "execution_count": null,
   "metadata": {},
   "outputs": [],
   "source": []
  },
  {
   "cell_type": "markdown",
   "metadata": {},
   "source": [
    "### Review\n",
    "\n",
    "- string indexing\n",
    "- [start, stop, step]\n",
    "- forward vs backward"
   ]
  },
  {
   "cell_type": "code",
   "execution_count": null,
   "metadata": {},
   "outputs": [],
   "source": []
  }
 ],
 "metadata": {
  "kernelspec": {
   "display_name": "Python 3",
   "language": "python",
   "name": "python3"
  },
  "language_info": {
   "codemirror_mode": {
    "name": "ipython",
    "version": 3
   },
   "file_extension": ".py",
   "mimetype": "text/x-python",
   "name": "python",
   "nbconvert_exporter": "python",
   "pygments_lexer": "ipython3",
   "version": "3.7.9"
  }
 },
 "nbformat": 4,
 "nbformat_minor": 4
}
