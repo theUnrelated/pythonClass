{
 "cells": [
  {
   "cell_type": "markdown",
   "metadata": {},
   "source": [
    "# Lesson 1 - Intro to Python\n",
    "This lesson will lead you through the basics of Python syntax and hotkeys for Jupyter.\n",
    "\n",
    "## Declaring and Assigning values\n",
    "\n",
    "Type `print(\"Hello World\")` and press <Shift + Enter>"
   ]
  },
  {
   "cell_type": "code",
   "execution_count": null,
   "metadata": {},
   "outputs": [],
   "source": [
    "print(\"Hello World\")"
   ]
  },
  {
   "cell_type": "markdown",
   "metadata": {},
   "source": [
    "Values are a form of representation or description.\n",
    "\n",
    "For example, a person's name is"
   ]
  },
  {
   "cell_type": "code",
   "execution_count": null,
   "metadata": {
    "scrolled": true
   },
   "outputs": [],
   "source": [
    "\"Roth Longbottom\""
   ]
  },
  {
   "cell_type": "markdown",
   "metadata": {},
   "source": [
    "The number of days I have to go school is"
   ]
  },
  {
   "cell_type": "code",
   "execution_count": null,
   "metadata": {},
   "outputs": [],
   "source": [
    "5"
   ]
  },
  {
   "cell_type": "markdown",
   "metadata": {},
   "source": [
    "**Commenting** is a form of notation. Python ignores everything after the hashtag `#`"
   ]
  },
  {
   "cell_type": "code",
   "execution_count": null,
   "metadata": {},
   "outputs": [],
   "source": [
    "# This is a comment"
   ]
  },
  {
   "cell_type": "code",
   "execution_count": null,
   "metadata": {},
   "outputs": [],
   "source": [
    "# This line of code will not run\n",
    "\"but this line will\""
   ]
  },
  {
   "cell_type": "markdown",
   "metadata": {},
   "source": [
    "### Numbers\n",
    "\n",
    "Numbers are categorised into 2 types\n",
    "- Integers (Whole numbers)\n",
    "- Floats (Decimal numbers)\n",
    "\n",
    "Find out which type they are by using the function `type()`"
   ]
  },
  {
   "cell_type": "code",
   "execution_count": null,
   "metadata": {},
   "outputs": [],
   "source": [
    "1 # Integer\n",
    "print(1)\n",
    "type(1)"
   ]
  },
  {
   "cell_type": "code",
   "execution_count": null,
   "metadata": {},
   "outputs": [],
   "source": [
    "1.0 # Float\n",
    "print(1.0)\n",
    "type(1.0)"
   ]
  },
  {
   "cell_type": "markdown",
   "metadata": {},
   "source": [
    "### Strings\n",
    "\n",
    "Strings refer to texts and are defined with quotation marks `\" \"`. "
   ]
  },
  {
   "cell_type": "code",
   "execution_count": null,
   "metadata": {},
   "outputs": [],
   "source": [
    "\"This sentence is a string\""
   ]
  },
  {
   "cell_type": "code",
   "execution_count": null,
   "metadata": {},
   "outputs": [],
   "source": [
    "\"5.0 is also a string here as it is within the quotation marks\""
   ]
  },
  {
   "cell_type": "markdown",
   "metadata": {},
   "source": [
    "Is \"6\" a string or an integer?\n",
    "Find out with `type()` function!"
   ]
  },
  {
   "cell_type": "code",
   "execution_count": null,
   "metadata": {},
   "outputs": [],
   "source": []
  },
  {
   "cell_type": "markdown",
   "metadata": {},
   "source": [
    "### Recap\n",
    "\n",
    "Find out whether the following are integers, floats or string\n",
    "1. 3.1415\n",
    "2. 9\n",
    "3. \"12309\"\n",
    "4. \"Hi, what is your name?\"\n",
    "5. 3 + 19"
   ]
  },
  {
   "cell_type": "code",
   "execution_count": null,
   "metadata": {},
   "outputs": [],
   "source": []
  },
  {
   "cell_type": "markdown",
   "metadata": {},
   "source": [
    "## Variables\n",
    "\n",
    "Variables are storage for your values. Imagine having a `box` and putting an `apple` inside. "
   ]
  },
  {
   "cell_type": "code",
   "execution_count": null,
   "metadata": {},
   "outputs": [],
   "source": [
    "box = \"apple\""
   ]
  },
  {
   "cell_type": "markdown",
   "metadata": {},
   "source": [
    "Now try accessing the box to see what is inside by typing `box` and pressing <Shift + Enter>"
   ]
  },
  {
   "cell_type": "code",
   "execution_count": null,
   "metadata": {},
   "outputs": [],
   "source": []
  },
  {
   "cell_type": "markdown",
   "metadata": {},
   "source": [
    "What happens if you accessed a random_box?"
   ]
  },
  {
   "cell_type": "code",
   "execution_count": null,
   "metadata": {},
   "outputs": [],
   "source": [
    "random_box"
   ]
  },
  {
   "cell_type": "markdown",
   "metadata": {},
   "source": [
    "Can you figure out why?\n",
    "\n",
    "\n",
    "##### Rules for variable names\n",
    "\n",
    "- Must start with letter\n",
    "- Does not contain spaces (use `_` to substitute)\n",
    "- Must not be a function name e.g if, else, def, for\n",
    "\n",
    "Try creating some variables that stores value!"
   ]
  },
  {
   "cell_type": "code",
   "execution_count": null,
   "metadata": {},
   "outputs": [],
   "source": []
  },
  {
   "cell_type": "markdown",
   "metadata": {},
   "source": [
    "### Exercise 1\n",
    "\n",
    "Store the following numbers in variables and obtain the total\n",
    "\n",
    "- 51 --> first_num\n",
    "- 48 --> second_num\n",
    "- 23 --> third_num\n",
    "- 93 --> fourth_num\n",
    "\n",
    "total = `?`"
   ]
  },
  {
   "cell_type": "code",
   "execution_count": null,
   "metadata": {},
   "outputs": [],
   "source": []
  },
  {
   "cell_type": "markdown",
   "metadata": {},
   "source": [
    "You realised you made a mistake in the third number. It was supposed to be `85` instead of `23`. Find the new total."
   ]
  },
  {
   "cell_type": "code",
   "execution_count": null,
   "metadata": {},
   "outputs": [],
   "source": []
  },
  {
   "cell_type": "markdown",
   "metadata": {},
   "source": [
    "After finding the new total, you wanted to compare what was the difference between the wrong answer. "
   ]
  },
  {
   "cell_type": "code",
   "execution_count": null,
   "metadata": {},
   "outputs": [],
   "source": []
  },
  {
   "cell_type": "markdown",
   "metadata": {},
   "source": [
    "#### Put on your thinking Cap\n",
    "\n",
    "1. Why is there a need to use variables?\n",
    "\n",
    "2. Why not type out the answers directly?\n",
    "\n",
    "Type your answers in `comments` #"
   ]
  },
  {
   "cell_type": "code",
   "execution_count": null,
   "metadata": {},
   "outputs": [],
   "source": []
  },
  {
   "cell_type": "markdown",
   "metadata": {},
   "source": [
    "### Converters\n",
    "\n",
    "Sometimes you want to add numbers instead of string. For example"
   ]
  },
  {
   "cell_type": "code",
   "execution_count": 18,
   "metadata": {},
   "outputs": [
    {
     "data": {
      "text/plain": [
       "'100900'"
      ]
     },
     "execution_count": 18,
     "metadata": {},
     "output_type": "execute_result"
    }
   ],
   "source": [
    "# 100 + 900 = 1000\n",
    "\"100\" + \"900\""
   ]
  },
  {
   "cell_type": "markdown",
   "metadata": {},
   "source": [
    "Did the above give you the correct answer?\n",
    "What can you do to get the correct answer?\n",
    "\n",
    "**Hint** Try using the functions `int()`, `float()`, `str()`"
   ]
  },
  {
   "cell_type": "code",
   "execution_count": null,
   "metadata": {},
   "outputs": [],
   "source": []
  },
  {
   "cell_type": "markdown",
   "metadata": {},
   "source": [
    "### Exercise 2\n",
    "\n",
    "You are given the following variables. You want to see the difference between the `+` function in string and in int/floats. \n",
    "<br>\n",
    "Fix the variable names before finding the answer."
   ]
  },
  {
   "cell_type": "code",
   "execution_count": null,
   "metadata": {},
   "outputs": [],
   "source": [
    "var1 = 549\n",
    "var2 = \"948\"\n",
    "3rdvar = 999\n",
    "var 4 = 123\n",
    "lastVar = 340"
   ]
  },
  {
   "cell_type": "code",
   "execution_count": null,
   "metadata": {},
   "outputs": [],
   "source": []
  },
  {
   "cell_type": "markdown",
   "metadata": {},
   "source": [
    "### Recap\n",
    "\n",
    "- Integers\n",
    "- Floats\n",
    "- Strings\n",
    "- `Type()`\n",
    "- Variables\n",
    "- Values\n",
    "- Converters\n"
   ]
  },
  {
   "cell_type": "code",
   "execution_count": null,
   "metadata": {},
   "outputs": [],
   "source": []
  },
  {
   "cell_type": "code",
   "execution_count": 26,
   "metadata": {},
   "outputs": [
    {
     "name": "stdout",
     "output_type": "stream",
     "text": [
      " Volume in drive C is Windows10_OS\n",
      " Volume Serial Number is CAC2-DEFD\n",
      "\n",
      " Directory of C:\\Users\\Chu\\Downloads\n",
      "\n",
      "12/17/2020  01:13 PM    <DIR>          .\n",
      "12/17/2020  01:13 PM    <DIR>          ..\n",
      "12/16/2020  08:05 PM         1,189,409 Allometricequationformangrovebiomass.pdf\n",
      "08/16/2020  03:14 PM           800,927 book.pdf\n",
      "11/30/2020  09:24 AM    <DIR>          CDP\n",
      "12/10/2020  02:13 PM         7,296,725 Chu_Ken_Yu_Joseph_A018682N.docx\n",
      "12/17/2020  01:12 PM       162,926,741 Datacollection.xlsx\n",
      "12/14/2020  08:11 AM           208,445 ENV3102 2020 Dec - Student project instructions.pdf\n",
      "12/15/2020  09:00 PM            13,731 ENV3102 Report.docx\n",
      "12/09/2020  05:12 PM         1,087,602 Friess2016_Article_MangroveForestsStoreHighDensit.pdf\n",
      "12/11/2020  08:14 PM           266,163 Group 2 Risk Assessment Matrix.xlsx\n",
      "12/15/2020  08:56 PM    <DIR>          Telegram Desktop\n",
      "               8 File(s)    173,789,743 bytes\n",
      "               4 Dir(s)  91,638,493,184 bytes free\n"
     ]
    }
   ],
   "source": [
    "ls"
   ]
  },
  {
   "cell_type": "code",
   "execution_count": 29,
   "metadata": {},
   "outputs": [
    {
     "data": {
      "text/html": [
       "<div>\n",
       "<style scoped>\n",
       "    .dataframe tbody tr th:only-of-type {\n",
       "        vertical-align: middle;\n",
       "    }\n",
       "\n",
       "    .dataframe tbody tr th {\n",
       "        vertical-align: top;\n",
       "    }\n",
       "\n",
       "    .dataframe thead th {\n",
       "        text-align: right;\n",
       "    }\n",
       "</style>\n",
       "<table border=\"1\" class=\"dataframe\">\n",
       "  <thead>\n",
       "    <tr style=\"text-align: right;\">\n",
       "      <th></th>\n",
       "      <th>S/N</th>\n",
       "      <th>Plot</th>\n",
       "      <th>Tree species (full name)</th>\n",
       "      <th>Tree Species (acronym)</th>\n",
       "      <th>Wood density (ρ)</th>\n",
       "      <th>DBH (cm)</th>\n",
       "      <th>AGB Equation</th>\n",
       "      <th>W top / AGB</th>\n",
       "      <th>Sum top AGB</th>\n",
       "      <th>Unnamed: 9</th>\n",
       "      <th>Unnamed: 10</th>\n",
       "      <th>Unnamed: 11</th>\n",
       "      <th>Unnamed: 12</th>\n",
       "      <th>Unnamed: 13</th>\n",
       "    </tr>\n",
       "  </thead>\n",
       "  <tbody>\n",
       "    <tr>\n",
       "      <th>0</th>\n",
       "      <td>1</td>\n",
       "      <td>N1</td>\n",
       "      <td>Rhizophora mucronata</td>\n",
       "      <td>RM</td>\n",
       "      <td>0.867</td>\n",
       "      <td>5.8</td>\n",
       "      <td>Wtop = 0.1709DBH^2.516</td>\n",
       "      <td>14.240554</td>\n",
       "      <td>2600.812163</td>\n",
       "      <td>NaN</td>\n",
       "      <td>NaN</td>\n",
       "      <td>NaN</td>\n",
       "      <td>NaN</td>\n",
       "      <td>O1</td>\n",
       "    </tr>\n",
       "    <tr>\n",
       "      <th>1</th>\n",
       "      <td>2</td>\n",
       "      <td>N1</td>\n",
       "      <td>Avicennia officinalis</td>\n",
       "      <td>AO</td>\n",
       "      <td>0.654</td>\n",
       "      <td>8.0</td>\n",
       "      <td>Wtop = 0.251ρ D^2.46</td>\n",
       "      <td>27.343420</td>\n",
       "      <td>NaN</td>\n",
       "      <td>NaN</td>\n",
       "      <td>NaN</td>\n",
       "      <td>NaN</td>\n",
       "      <td>NaN</td>\n",
       "      <td>NaN</td>\n",
       "    </tr>\n",
       "    <tr>\n",
       "      <th>2</th>\n",
       "      <td>3</td>\n",
       "      <td>N1</td>\n",
       "      <td>Bruguiera cylindrica</td>\n",
       "      <td>BC</td>\n",
       "      <td>0.749</td>\n",
       "      <td>7.2</td>\n",
       "      <td>Wtop = 0.251ρ D^2.46</td>\n",
       "      <td>24.165372</td>\n",
       "      <td>NaN</td>\n",
       "      <td>NaN</td>\n",
       "      <td>NaN</td>\n",
       "      <td>NaN</td>\n",
       "      <td>NaN</td>\n",
       "      <td>NaN</td>\n",
       "    </tr>\n",
       "    <tr>\n",
       "      <th>3</th>\n",
       "      <td>4</td>\n",
       "      <td>N1</td>\n",
       "      <td>Bruguiera cylindrica</td>\n",
       "      <td>BC</td>\n",
       "      <td>0.749</td>\n",
       "      <td>6.2</td>\n",
       "      <td>Wtop = 0.251ρ D^2.46</td>\n",
       "      <td>16.727810</td>\n",
       "      <td>NaN</td>\n",
       "      <td>NaN</td>\n",
       "      <td>NaN</td>\n",
       "      <td>NaN</td>\n",
       "      <td>NaN</td>\n",
       "      <td>NaN</td>\n",
       "    </tr>\n",
       "    <tr>\n",
       "      <th>4</th>\n",
       "      <td>5</td>\n",
       "      <td>N1</td>\n",
       "      <td>Bruguiera cylindrica</td>\n",
       "      <td>BC</td>\n",
       "      <td>0.749</td>\n",
       "      <td>7.3</td>\n",
       "      <td>Wtop = 0.251ρ D^2.46</td>\n",
       "      <td>24.999411</td>\n",
       "      <td>NaN</td>\n",
       "      <td>NaN</td>\n",
       "      <td>NaN</td>\n",
       "      <td>NaN</td>\n",
       "      <td>NaN</td>\n",
       "      <td>NaN</td>\n",
       "    </tr>\n",
       "  </tbody>\n",
       "</table>\n",
       "</div>"
      ],
      "text/plain": [
       "   S/N Plot Tree species (full name) Tree Species (acronym) Wood density (ρ)  \\\n",
       "0    1   N1     Rhizophora mucronata                     RM            0.867   \n",
       "1    2   N1    Avicennia officinalis                     AO            0.654   \n",
       "2    3   N1     Bruguiera cylindrica                     BC            0.749   \n",
       "3    4   N1     Bruguiera cylindrica                     BC            0.749   \n",
       "4    5   N1     Bruguiera cylindrica                     BC            0.749   \n",
       "\n",
       "   DBH (cm)            AGB Equation  W top / AGB  Sum top AGB  Unnamed: 9  \\\n",
       "0       5.8  Wtop = 0.1709DBH^2.516    14.240554  2600.812163         NaN   \n",
       "1       8.0    Wtop = 0.251ρ D^2.46    27.343420          NaN         NaN   \n",
       "2       7.2    Wtop = 0.251ρ D^2.46    24.165372          NaN         NaN   \n",
       "3       6.2    Wtop = 0.251ρ D^2.46    16.727810          NaN         NaN   \n",
       "4       7.3    Wtop = 0.251ρ D^2.46    24.999411          NaN         NaN   \n",
       "\n",
       "  Unnamed: 10 Unnamed: 11  Unnamed: 12 Unnamed: 13  \n",
       "0         NaN         NaN          NaN          O1  \n",
       "1         NaN         NaN          NaN         NaN  \n",
       "2         NaN         NaN          NaN         NaN  \n",
       "3         NaN         NaN          NaN         NaN  \n",
       "4         NaN         NaN          NaN         NaN  "
      ]
     },
     "execution_count": 29,
     "metadata": {},
     "output_type": "execute_result"
    }
   ],
   "source": [
    "import pandas as pd\n",
    "df = pd.read_excel(\"Datacollection.xlsx\", sheet_name=\"AGB data\")\n",
    "df.head()"
   ]
  },
  {
   "cell_type": "code",
   "execution_count": 30,
   "metadata": {},
   "outputs": [
    {
     "data": {
      "image/png": "[encoded data removed]",
      "text/plain": [
       "<Figure size 432x288 with 1 Axes>"
      ]
     },
     "metadata": {
      "needs_background": "light"
     },
     "output_type": "display_data"
    }
   ],
   "source": [
    "boxplot = df.boxplot(column=['W top / AGB'])"
   ]
  },
  {
   "cell_type": "code",
   "execution_count": 37,
   "metadata": {},
   "outputs": [],
   "source": [
    "df1 = df[df[\"Plot\"] == \"N1\"]\n",
    "df2 = df[df[\"Plot\"] == \"N2\"]\n",
    "df3 = df[df[\"Plot\"] == \"N3\"]\n",
    "df4 = df[df[\"Plot\"] == \"N4\"]\n",
    "df5 = df[df[\"Plot\"] == \"O1\"]\n",
    "df6 = df[df[\"Plot\"] == \"O2\"]\n",
    "df7 = df[df[\"Plot\"] == \"O3\"]\n",
    "df8 = df[df[\"Plot\"] == \"O4\"]"
   ]
  },
  {
   "cell_type": "code",
   "execution_count": 41,
   "metadata": {},
   "outputs": [],
   "source": [
    "dfNew = pd.concat([df1, df2, df3, df4])\n",
    "dfOld = pd.concat([df5, df6, df7, df8])"
   ]
  },
  {
   "cell_type": "code",
   "execution_count": 85,
   "metadata": {},
   "outputs": [],
   "source": [
    "import numpy as np\n",
    "dfNew[\"old\"] = pd.Series(list(dfOld[\"W top / AGB\"]))\n",
    "dfNew[\"LnNew\"] = pd.Series(np.log(list(dfNew[\"W top / AGB\"]))) \n",
    "dfNew[\"LnOld\"] = pd.Series(np.log(list(dfNew[\"old\"]))) "
   ]
  },
  {
   "cell_type": "code",
   "execution_count": 86,
   "metadata": {},
   "outputs": [
    {
     "data": {
      "text/html": [
       "<div>\n",
       "<style scoped>\n",
       "    .dataframe tbody tr th:only-of-type {\n",
       "        vertical-align: middle;\n",
       "    }\n",
       "\n",
       "    .dataframe tbody tr th {\n",
       "        vertical-align: top;\n",
       "    }\n",
       "\n",
       "    .dataframe thead th {\n",
       "        text-align: right;\n",
       "    }\n",
       "</style>\n",
       "<table border=\"1\" class=\"dataframe\">\n",
       "  <thead>\n",
       "    <tr style=\"text-align: right;\">\n",
       "      <th></th>\n",
       "      <th>S/N</th>\n",
       "      <th>Plot</th>\n",
       "      <th>Tree species (full name)</th>\n",
       "      <th>Tree Species (acronym)</th>\n",
       "      <th>Wood density (ρ)</th>\n",
       "      <th>DBH (cm)</th>\n",
       "      <th>AGB Equation</th>\n",
       "      <th>W top / AGB</th>\n",
       "      <th>Sum top AGB</th>\n",
       "      <th>Unnamed: 9</th>\n",
       "      <th>Unnamed: 10</th>\n",
       "      <th>Unnamed: 11</th>\n",
       "      <th>Unnamed: 12</th>\n",
       "      <th>Unnamed: 13</th>\n",
       "      <th>new</th>\n",
       "      <th>old</th>\n",
       "      <th>LnNew</th>\n",
       "      <th>LnOld</th>\n",
       "    </tr>\n",
       "  </thead>\n",
       "  <tbody>\n",
       "    <tr>\n",
       "      <th>0</th>\n",
       "      <td>1</td>\n",
       "      <td>N1</td>\n",
       "      <td>Rhizophora mucronata</td>\n",
       "      <td>RM</td>\n",
       "      <td>0.867</td>\n",
       "      <td>5.8</td>\n",
       "      <td>Wtop = 0.1709DBH^2.516</td>\n",
       "      <td>14.240554</td>\n",
       "      <td>2600.812163</td>\n",
       "      <td>NaN</td>\n",
       "      <td>NaN</td>\n",
       "      <td>NaN</td>\n",
       "      <td>NaN</td>\n",
       "      <td>O1</td>\n",
       "      <td>31.315324</td>\n",
       "      <td>31.315324</td>\n",
       "      <td>2.656094</td>\n",
       "      <td>3.444108</td>\n",
       "    </tr>\n",
       "    <tr>\n",
       "      <th>1</th>\n",
       "      <td>2</td>\n",
       "      <td>N1</td>\n",
       "      <td>Avicennia officinalis</td>\n",
       "      <td>AO</td>\n",
       "      <td>0.654</td>\n",
       "      <td>8.0</td>\n",
       "      <td>Wtop = 0.251ρ D^2.46</td>\n",
       "      <td>27.343420</td>\n",
       "      <td>NaN</td>\n",
       "      <td>NaN</td>\n",
       "      <td>NaN</td>\n",
       "      <td>NaN</td>\n",
       "      <td>NaN</td>\n",
       "      <td>NaN</td>\n",
       "      <td>350.290040</td>\n",
       "      <td>350.290040</td>\n",
       "      <td>3.308476</td>\n",
       "      <td>5.858761</td>\n",
       "    </tr>\n",
       "    <tr>\n",
       "      <th>2</th>\n",
       "      <td>3</td>\n",
       "      <td>N1</td>\n",
       "      <td>Bruguiera cylindrica</td>\n",
       "      <td>BC</td>\n",
       "      <td>0.749</td>\n",
       "      <td>7.2</td>\n",
       "      <td>Wtop = 0.251ρ D^2.46</td>\n",
       "      <td>24.165372</td>\n",
       "      <td>NaN</td>\n",
       "      <td>NaN</td>\n",
       "      <td>NaN</td>\n",
       "      <td>NaN</td>\n",
       "      <td>NaN</td>\n",
       "      <td>NaN</td>\n",
       "      <td>84.906591</td>\n",
       "      <td>84.906591</td>\n",
       "      <td>3.184921</td>\n",
       "      <td>4.441552</td>\n",
       "    </tr>\n",
       "    <tr>\n",
       "      <th>3</th>\n",
       "      <td>4</td>\n",
       "      <td>N1</td>\n",
       "      <td>Bruguiera cylindrica</td>\n",
       "      <td>BC</td>\n",
       "      <td>0.749</td>\n",
       "      <td>6.2</td>\n",
       "      <td>Wtop = 0.251ρ D^2.46</td>\n",
       "      <td>16.727810</td>\n",
       "      <td>NaN</td>\n",
       "      <td>NaN</td>\n",
       "      <td>NaN</td>\n",
       "      <td>NaN</td>\n",
       "      <td>NaN</td>\n",
       "      <td>NaN</td>\n",
       "      <td>140.842463</td>\n",
       "      <td>140.842463</td>\n",
       "      <td>2.817073</td>\n",
       "      <td>4.947642</td>\n",
       "    </tr>\n",
       "    <tr>\n",
       "      <th>4</th>\n",
       "      <td>5</td>\n",
       "      <td>N1</td>\n",
       "      <td>Bruguiera cylindrica</td>\n",
       "      <td>BC</td>\n",
       "      <td>0.749</td>\n",
       "      <td>7.3</td>\n",
       "      <td>Wtop = 0.251ρ D^2.46</td>\n",
       "      <td>24.999411</td>\n",
       "      <td>NaN</td>\n",
       "      <td>NaN</td>\n",
       "      <td>NaN</td>\n",
       "      <td>NaN</td>\n",
       "      <td>NaN</td>\n",
       "      <td>NaN</td>\n",
       "      <td>188.634635</td>\n",
       "      <td>188.634635</td>\n",
       "      <td>3.218852</td>\n",
       "      <td>5.239812</td>\n",
       "    </tr>\n",
       "  </tbody>\n",
       "</table>\n",
       "</div>"
      ],
      "text/plain": [
       "   S/N Plot Tree species (full name) Tree Species (acronym) Wood density (ρ)  \\\n",
       "0    1   N1     Rhizophora mucronata                     RM            0.867   \n",
       "1    2   N1    Avicennia officinalis                     AO            0.654   \n",
       "2    3   N1     Bruguiera cylindrica                     BC            0.749   \n",
       "3    4   N1     Bruguiera cylindrica                     BC            0.749   \n",
       "4    5   N1     Bruguiera cylindrica                     BC            0.749   \n",
       "\n",
       "   DBH (cm)            AGB Equation  W top / AGB  Sum top AGB  Unnamed: 9  \\\n",
       "0       5.8  Wtop = 0.1709DBH^2.516    14.240554  2600.812163         NaN   \n",
       "1       8.0    Wtop = 0.251ρ D^2.46    27.343420          NaN         NaN   \n",
       "2       7.2    Wtop = 0.251ρ D^2.46    24.165372          NaN         NaN   \n",
       "3       6.2    Wtop = 0.251ρ D^2.46    16.727810          NaN         NaN   \n",
       "4       7.3    Wtop = 0.251ρ D^2.46    24.999411          NaN         NaN   \n",
       "\n",
       "  Unnamed: 10 Unnamed: 11  Unnamed: 12 Unnamed: 13         new         old  \\\n",
       "0         NaN         NaN          NaN          O1   31.315324   31.315324   \n",
       "1         NaN         NaN          NaN         NaN  350.290040  350.290040   \n",
       "2         NaN         NaN          NaN         NaN   84.906591   84.906591   \n",
       "3         NaN         NaN          NaN         NaN  140.842463  140.842463   \n",
       "4         NaN         NaN          NaN         NaN  188.634635  188.634635   \n",
       "\n",
       "      LnNew     LnOld  \n",
       "0  2.656094  3.444108  \n",
       "1  3.308476  5.858761  \n",
       "2  3.184921  4.441552  \n",
       "3  2.817073  4.947642  \n",
       "4  3.218852  5.239812  "
      ]
     },
     "execution_count": 86,
     "metadata": {},
     "output_type": "execute_result"
    }
   ],
   "source": [
    "dfNew.head()"
   ]
  },
  {
   "cell_type": "code",
   "execution_count": 93,
   "metadata": {},
   "outputs": [
    {
     "data": {
      "image/png": "[encoded data removed]",
      "text/plain": [
       "<Figure size 432x288 with 2 Axes>"
      ]
     },
     "metadata": {
      "needs_background": "light"
     },
     "output_type": "display_data"
    }
   ],
   "source": [
    "# bp = dfNew.hist(column=[\"W top / AGB\", \"old\"])\n",
    "bp = dfNew.hist(column=[\"LnNew\", \"LnOld\"])"
   ]
  },
  {
   "cell_type": "code",
   "execution_count": 94,
   "metadata": {},
   "outputs": [
    {
     "data": {
      "image/png": "[encoded data removed]",
      "text/plain": [
       "<Figure size 432x288 with 1 Axes>"
      ]
     },
     "metadata": {
      "needs_background": "light"
     },
     "output_type": "display_data"
    }
   ],
   "source": [
    "bp = dfNew.boxplot(column=[\"LnNew\", \"LnOld\"])"
   ]
  },
  {
   "cell_type": "code",
   "execution_count": 90,
   "metadata": {},
   "outputs": [
    {
     "name": "stderr",
     "output_type": "stream",
     "text": [
      "C:\\Users\\Chu\\anaconda3\\lib\\site-packages\\scipy\\stats\\_distn_infrastructure.py:1932: RuntimeWarning: invalid value encountered in less_equal\n",
      "  cond2 = cond0 & (x <= _a)\n"
     ]
    },
    {
     "data": {
      "text/plain": [
       "Text(0.5, 1.0, 'AGB NEW Q-Q Plot')"
      ]
     },
     "execution_count": 90,
     "metadata": {},
     "output_type": "execute_result"
    },
    {
     "data": {
      "image/png": "[encoded data removed]",
      "text/plain": [
       "<Figure size 432x288 with 1 Axes>"
      ]
     },
     "metadata": {
      "needs_background": "light"
     },
     "output_type": "display_data"
    }
   ],
   "source": [
    "from scipy import stats\n",
    "import matplotlib.pyplot as plt\n",
    "stats.probplot(dfNew['LnNew'], dist=\"norm\", plot=plt)\n",
    "plt.title(\"AGB NEW Q-Q Plot\")"
   ]
  },
  {
   "cell_type": "code",
   "execution_count": 91,
   "metadata": {},
   "outputs": [
    {
     "name": "stderr",
     "output_type": "stream",
     "text": [
      "C:\\Users\\Chu\\anaconda3\\lib\\site-packages\\scipy\\stats\\_distn_infrastructure.py:1932: RuntimeWarning: invalid value encountered in less_equal\n",
      "  cond2 = cond0 & (x <= _a)\n"
     ]
    },
    {
     "data": {
      "text/plain": [
       "Text(0.5, 1.0, 'AGB NEW Q-Q Plot')"
      ]
     },
     "execution_count": 91,
     "metadata": {},
     "output_type": "execute_result"
    },
    {
     "data": {
      "image/png": "[encoded data removed]",
      "text/plain": [
       "<Figure size 432x288 with 1 Axes>"
      ]
     },
     "metadata": {
      "needs_background": "light"
     },
     "output_type": "display_data"
    }
   ],
   "source": [
    "stats.probplot(dfNew['LnOld'], dist=\"norm\", plot=plt)\n",
    "plt.title(\"AGB NEW Q-Q Plot\")"
   ]
  },
  {
   "cell_type": "code",
   "execution_count": 92,
   "metadata": {},
   "outputs": [
    {
     "name": "stderr",
     "output_type": "stream",
     "text": [
      "C:\\Users\\Chu\\anaconda3\\lib\\site-packages\\scipy\\stats\\morestats.py:2974: RuntimeWarning: invalid value encountered in greater\n",
      "  r_plus = np.sum((d > 0) * r)\n",
      "C:\\Users\\Chu\\anaconda3\\lib\\site-packages\\scipy\\stats\\morestats.py:2975: RuntimeWarning: invalid value encountered in less\n",
      "  r_minus = np.sum((d < 0) * r)\n"
     ]
    },
    {
     "data": {
      "text/plain": [
       "WilcoxonResult(statistic=284.0, pvalue=4.541853868904389e-09)"
      ]
     },
     "execution_count": 92,
     "metadata": {},
     "output_type": "execute_result"
    }
   ],
   "source": [
    "stats.wilcoxon(dfNew['LnNew'], dfNew['LnOld'])"
   ]
  },
  {
   "cell_type": "code",
   "execution_count": null,
   "metadata": {},
   "outputs": [],
   "source": []
  }
 ],
 "metadata": {
  "kernelspec": {
   "display_name": "Python 3",
   "language": "python",
   "name": "python3"
  },
  "language_info": {
   "codemirror_mode": {
    "name": "ipython",
    "version": 3
   },
   "file_extension": ".py",
   "mimetype": "text/x-python",
   "name": "python",
   "nbconvert_exporter": "python",
   "pygments_lexer": "ipython3",
   "version": "3.7.9"
  }
 },
 "nbformat": 4,
 "nbformat_minor": 4
}
