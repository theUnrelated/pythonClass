{
 "cells": [
  {
   "cell_type": "markdown",
   "metadata": {},
   "source": [
    "# Lesson 1 - Intro to Python\n",
    "This lesson will lead you through the basics of Python syntax and hotkeys for Jupyter.\n",
    "\n",
    "## Declaring and Assigning values\n",
    "\n",
    "Type `print(\"Hello World\")` and press <Shift + Enter>"
   ]
  },
  {
   "cell_type": "code",
   "execution_count": null,
   "metadata": {},
   "outputs": [],
   "source": [
    "print(\"Hello World\")"
   ]
  },
  {
   "cell_type": "markdown",
   "metadata": {},
   "source": [
    "Values are a form of representation or description.\n",
    "\n",
    "For example, a person's name is"
   ]
  },
  {
   "cell_type": "code",
   "execution_count": null,
   "metadata": {
    "scrolled": true
   },
   "outputs": [],
   "source": [
    "\"Roth Longbottom\""
   ]
  },
  {
   "cell_type": "markdown",
   "metadata": {},
   "source": [
    "The number of days I have to go school is"
   ]
  },
  {
   "cell_type": "code",
   "execution_count": null,
   "metadata": {},
   "outputs": [],
   "source": [
    "5"
   ]
  },
  {
   "cell_type": "markdown",
   "metadata": {},
   "source": [
    "**Commenting** is a form of notation. Python ignores everything after the hashtag `#`"
   ]
  },
  {
   "cell_type": "code",
   "execution_count": null,
   "metadata": {},
   "outputs": [],
   "source": [
    "# This is a comment"
   ]
  },
  {
   "cell_type": "code",
   "execution_count": null,
   "metadata": {},
   "outputs": [],
   "source": [
    "# This line of code will not run\n",
    "\"but this line will\""
   ]
  },
  {
   "cell_type": "markdown",
   "metadata": {},
   "source": [
    "### Numbers\n",
    "\n",
    "Numbers are categorised into 2 types\n",
    "- Integers (Whole numbers)\n",
    "- Floats (Decimal numbers)\n",
    "\n",
    "Find out which type they are by using the function `type()`"
   ]
  },
  {
   "cell_type": "code",
   "execution_count": null,
   "metadata": {},
   "outputs": [],
   "source": [
    "1 # Integer\n",
    "print(1)\n",
    "type(1)"
   ]
  },
  {
   "cell_type": "code",
   "execution_count": null,
   "metadata": {},
   "outputs": [],
   "source": [
    "1.0 # Float\n",
    "print(1.0)\n",
    "type(1.0)"
   ]
  },
  {
   "cell_type": "markdown",
   "metadata": {},
   "source": [
    "### Strings\n",
    "\n",
    "Strings refer to texts and are defined with quotation marks `\" \"`. "
   ]
  },
  {
   "cell_type": "code",
   "execution_count": null,
   "metadata": {},
   "outputs": [],
   "source": [
    "\"This sentence is a string\""
   ]
  },
  {
   "cell_type": "code",
   "execution_count": null,
   "metadata": {},
   "outputs": [],
   "source": [
    "\"5.0 is also a string here as it is within the quotation marks\""
   ]
  },
  {
   "cell_type": "markdown",
   "metadata": {},
   "source": [
    "Is \"6\" a string or an integer?\n",
    "Find out with `type()` function!"
   ]
  },
  {
   "cell_type": "code",
   "execution_count": null,
   "metadata": {},
   "outputs": [],
   "source": []
  },
  {
   "cell_type": "markdown",
   "metadata": {},
   "source": [
    "### Recap\n",
    "\n",
    "Find out whether the following are integers, floats or string\n",
    "1. 3.1415\n",
    "2. 9\n",
    "3. \"12309\"\n",
    "4. \"Hi, what is your name?\"\n",
    "5. 3 + 19"
   ]
  },
  {
   "cell_type": "code",
   "execution_count": null,
   "metadata": {},
   "outputs": [],
   "source": []
  },
  {
   "cell_type": "markdown",
   "metadata": {},
   "source": [
    "## Variables\n",
    "\n",
    "Variables are storage for your values. Imagine having a `box` and putting an `apple` inside. "
   ]
  },
  {
   "cell_type": "code",
   "execution_count": null,
   "metadata": {},
   "outputs": [],
   "source": [
    "box = \"apple\""
   ]
  },
  {
   "cell_type": "markdown",
   "metadata": {},
   "source": [
    "Now try accessing the box to see what is inside by typing `box` and pressing <Shift + Enter>"
   ]
  },
  {
   "cell_type": "code",
   "execution_count": null,
   "metadata": {},
   "outputs": [],
   "source": []
  },
  {
   "cell_type": "markdown",
   "metadata": {},
   "source": [
    "What happens if you accessed a random_box?"
   ]
  },
  {
   "cell_type": "code",
   "execution_count": null,
   "metadata": {},
   "outputs": [],
   "source": [
    "random_box"
   ]
  },
  {
   "cell_type": "markdown",
   "metadata": {},
   "source": [
    "Can you figure out why?\n",
    "\n",
    "\n",
    "##### Rules for variable names\n",
    "\n",
    "- Must start with letter\n",
    "- Does not contain spaces (use `_` to substitute)\n",
    "- Must not be a function name e.g if, else, def, for\n",
    "\n",
    "Try creating some variables that stores value!"
   ]
  },
  {
   "cell_type": "code",
   "execution_count": null,
   "metadata": {},
   "outputs": [],
   "source": []
  },
  {
   "cell_type": "markdown",
   "metadata": {},
   "source": [
    "### Exercise 1\n",
    "\n",
    "Store the following numbers in variables and obtain the total\n",
    "\n",
    "- 51 --> first_num\n",
    "- 48 --> second_num\n",
    "- 23 --> third_num\n",
    "- 93 --> fourth_num\n",
    "\n",
    "total = `?`"
   ]
  },
  {
   "cell_type": "code",
   "execution_count": null,
   "metadata": {},
   "outputs": [],
   "source": []
  },
  {
   "cell_type": "markdown",
   "metadata": {},
   "source": [
    "You realised you made a mistake in the third number. It was supposed to be `85` instead of `23`. Find the new total."
   ]
  },
  {
   "cell_type": "code",
   "execution_count": null,
   "metadata": {},
   "outputs": [],
   "source": []
  },
  {
   "cell_type": "markdown",
   "metadata": {},
   "source": [
    "After finding the new total, you wanted to compare what was the difference between the wrong answer. "
   ]
  },
  {
   "cell_type": "code",
   "execution_count": null,
   "metadata": {},
   "outputs": [],
   "source": []
  },
  {
   "cell_type": "markdown",
   "metadata": {},
   "source": [
    "#### Put on your thinking Cap\n",
    "\n",
    "1. Why is there a need to use variables?\n",
    "\n",
    "2. Why not type out the answers directly?\n",
    "\n",
    "Type your answers in `comments` #"
   ]
  },
  {
   "cell_type": "code",
   "execution_count": null,
   "metadata": {},
   "outputs": [],
   "source": []
  },
  {
   "cell_type": "markdown",
   "metadata": {},
   "source": [
    "### Converters\n",
    "\n",
    "Sometimes you want to add numbers instead of string. For example"
   ]
  },
  {
   "cell_type": "code",
   "execution_count": 18,
   "metadata": {},
   "outputs": [
    {
     "data": {
      "text/plain": [
       "'100900'"
      ]
     },
     "execution_count": 18,
     "metadata": {},
     "output_type": "execute_result"
    }
   ],
   "source": [
    "# 100 + 900 = 1000\n",
    "\"100\" + \"900\""
   ]
  },
  {
   "cell_type": "markdown",
   "metadata": {},
   "source": [
    "Did the above give you the correct answer?\n",
    "What can you do to get the correct answer?\n",
    "\n",
    "**Hint** Try using the functions `int()`, `float()`, `str()`"
   ]
  },
  {
   "cell_type": "code",
   "execution_count": null,
   "metadata": {},
   "outputs": [],
   "source": []
  },
  {
   "cell_type": "markdown",
   "metadata": {},
   "source": [
    "### Exercise 2\n",
    "\n",
    "You are given the following variables. You want to see the difference between the `+` function in string and in int/floats. \n",
    "<br>\n",
    "Fix the variable names before finding the answer."
   ]
  },
  {
   "cell_type": "code",
   "execution_count": null,
   "metadata": {},
   "outputs": [],
   "source": [
    "var1 = 549\n",
    "var2 = \"948\"\n",
    "3rdvar = 999\n",
    "var 4 = 123\n",
    "lastVar = 340"
   ]
  },
  {
   "cell_type": "code",
   "execution_count": null,
   "metadata": {},
   "outputs": [],
   "source": []
  },
  {
   "cell_type": "markdown",
   "metadata": {},
   "source": [
    "### Recap\n",
    "\n",
    "- Integers\n",
    "- Floats\n",
    "- Strings\n",
    "- `Type()`\n",
    "- Variables\n",
    "- Values\n",
    "- Converters\n"
   ]
  },
  {
   "cell_type": "code",
   "execution_count": null,
   "metadata": {},
   "outputs": [],
   "source": []
  },
  {
   "cell_type": "code",
   "execution_count": 18,
   "metadata": {},
   "outputs": [
    {
     "name": "stdout",
     "output_type": "stream",
     "text": [
      "C:\\Users\\Chu\\Downloads\n"
     ]
    }
   ],
   "source": [
    "cd Downloads"
   ]
  },
  {
   "cell_type": "code",
   "execution_count": 19,
   "metadata": {},
   "outputs": [
    {
     "data": {
      "text/html": [
       "<div>\n",
       "<style scoped>\n",
       "    .dataframe tbody tr th:only-of-type {\n",
       "        vertical-align: middle;\n",
       "    }\n",
       "\n",
       "    .dataframe tbody tr th {\n",
       "        vertical-align: top;\n",
       "    }\n",
       "\n",
       "    .dataframe thead th {\n",
       "        text-align: right;\n",
       "    }\n",
       "</style>\n",
       "<table border=\"1\" class=\"dataframe\">\n",
       "  <thead>\n",
       "    <tr style=\"text-align: right;\">\n",
       "      <th></th>\n",
       "      <th>S/N</th>\n",
       "      <th>Plot</th>\n",
       "      <th>Tree species (full name)</th>\n",
       "      <th>Tree Species (acronym)</th>\n",
       "      <th>Wood density (ρ)</th>\n",
       "      <th>DBH (cm)</th>\n",
       "      <th>AGB Equation</th>\n",
       "      <th>W top / AGB</th>\n",
       "      <th>Sum top AGB</th>\n",
       "      <th>Unnamed: 9</th>\n",
       "      <th>Unnamed: 10</th>\n",
       "      <th>Unnamed: 11</th>\n",
       "      <th>Unnamed: 12</th>\n",
       "      <th>Unnamed: 13</th>\n",
       "      <th>Unnamed: 14</th>\n",
       "      <th>Unnamed: 15</th>\n",
       "      <th>Unnamed: 16</th>\n",
       "      <th>Unnamed: 17</th>\n",
       "    </tr>\n",
       "  </thead>\n",
       "  <tbody>\n",
       "    <tr>\n",
       "      <th>0</th>\n",
       "      <td>1</td>\n",
       "      <td>N1</td>\n",
       "      <td>Rhizophora mucronata</td>\n",
       "      <td>RM</td>\n",
       "      <td>0.867</td>\n",
       "      <td>5.8</td>\n",
       "      <td>Wtop = 0.1709DBH^2.516</td>\n",
       "      <td>14.240554</td>\n",
       "      <td>2600.812163</td>\n",
       "      <td>NaN</td>\n",
       "      <td>NaN</td>\n",
       "      <td>NaN</td>\n",
       "      <td>NaN</td>\n",
       "      <td>NaN</td>\n",
       "      <td>Min</td>\n",
       "      <td>Q1</td>\n",
       "      <td>Q2</td>\n",
       "      <td>Max</td>\n",
       "    </tr>\n",
       "    <tr>\n",
       "      <th>1</th>\n",
       "      <td>2</td>\n",
       "      <td>N1</td>\n",
       "      <td>Avicennia officinalis</td>\n",
       "      <td>AO</td>\n",
       "      <td>0.654</td>\n",
       "      <td>8.0</td>\n",
       "      <td>Wtop = 0.251ρ D^2.46</td>\n",
       "      <td>27.343420</td>\n",
       "      <td>NaN</td>\n",
       "      <td>NaN</td>\n",
       "      <td>NaN</td>\n",
       "      <td>NaN</td>\n",
       "      <td>NaN</td>\n",
       "      <td>N1</td>\n",
       "      <td>10.3461</td>\n",
       "      <td>15.2868</td>\n",
       "      <td>171.422</td>\n",
       "      <td>957.191</td>\n",
       "    </tr>\n",
       "    <tr>\n",
       "      <th>2</th>\n",
       "      <td>3</td>\n",
       "      <td>N1</td>\n",
       "      <td>Bruguiera cylindrica</td>\n",
       "      <td>BC</td>\n",
       "      <td>0.749</td>\n",
       "      <td>7.2</td>\n",
       "      <td>Wtop = 0.251ρ D^2.46</td>\n",
       "      <td>24.165372</td>\n",
       "      <td>NaN</td>\n",
       "      <td>NaN</td>\n",
       "      <td>NaN</td>\n",
       "      <td>NaN</td>\n",
       "      <td>NaN</td>\n",
       "      <td>N2</td>\n",
       "      <td>12.6938</td>\n",
       "      <td>18.0867</td>\n",
       "      <td>150.82</td>\n",
       "      <td>682.422</td>\n",
       "    </tr>\n",
       "    <tr>\n",
       "      <th>3</th>\n",
       "      <td>4</td>\n",
       "      <td>N1</td>\n",
       "      <td>Bruguiera cylindrica</td>\n",
       "      <td>BC</td>\n",
       "      <td>0.749</td>\n",
       "      <td>6.2</td>\n",
       "      <td>Wtop = 0.251ρ D^2.46</td>\n",
       "      <td>16.727810</td>\n",
       "      <td>NaN</td>\n",
       "      <td>NaN</td>\n",
       "      <td>NaN</td>\n",
       "      <td>NaN</td>\n",
       "      <td>NaN</td>\n",
       "      <td>NaN</td>\n",
       "      <td>10.3461</td>\n",
       "      <td>NaN</td>\n",
       "      <td>NaN</td>\n",
       "      <td>NaN</td>\n",
       "    </tr>\n",
       "    <tr>\n",
       "      <th>4</th>\n",
       "      <td>5</td>\n",
       "      <td>N1</td>\n",
       "      <td>Bruguiera cylindrica</td>\n",
       "      <td>BC</td>\n",
       "      <td>0.749</td>\n",
       "      <td>7.3</td>\n",
       "      <td>Wtop = 0.251ρ D^2.46</td>\n",
       "      <td>24.999411</td>\n",
       "      <td>NaN</td>\n",
       "      <td>NaN</td>\n",
       "      <td>NaN</td>\n",
       "      <td>NaN</td>\n",
       "      <td>NaN</td>\n",
       "      <td>NaN</td>\n",
       "      <td>NaN</td>\n",
       "      <td>NaN</td>\n",
       "      <td>NaN</td>\n",
       "      <td>NaN</td>\n",
       "    </tr>\n",
       "  </tbody>\n",
       "</table>\n",
       "</div>"
      ],
      "text/plain": [
       "   S/N Plot Tree species (full name) Tree Species (acronym) Wood density (ρ)  \\\n",
       "0    1   N1     Rhizophora mucronata                     RM            0.867   \n",
       "1    2   N1    Avicennia officinalis                     AO            0.654   \n",
       "2    3   N1     Bruguiera cylindrica                     BC            0.749   \n",
       "3    4   N1     Bruguiera cylindrica                     BC            0.749   \n",
       "4    5   N1     Bruguiera cylindrica                     BC            0.749   \n",
       "\n",
       "   DBH (cm)            AGB Equation  W top / AGB  Sum top AGB  Unnamed: 9  \\\n",
       "0       5.8  Wtop = 0.1709DBH^2.516    14.240554  2600.812163         NaN   \n",
       "1       8.0    Wtop = 0.251ρ D^2.46    27.343420          NaN         NaN   \n",
       "2       7.2    Wtop = 0.251ρ D^2.46    24.165372          NaN         NaN   \n",
       "3       6.2    Wtop = 0.251ρ D^2.46    16.727810          NaN         NaN   \n",
       "4       7.3    Wtop = 0.251ρ D^2.46    24.999411          NaN         NaN   \n",
       "\n",
       "  Unnamed: 10 Unnamed: 11  Unnamed: 12 Unnamed: 13 Unnamed: 14 Unnamed: 15  \\\n",
       "0         NaN         NaN          NaN         NaN         Min          Q1   \n",
       "1         NaN         NaN          NaN          N1     10.3461     15.2868   \n",
       "2         NaN         NaN          NaN          N2     12.6938     18.0867   \n",
       "3         NaN         NaN          NaN         NaN     10.3461         NaN   \n",
       "4         NaN         NaN          NaN         NaN         NaN         NaN   \n",
       "\n",
       "  Unnamed: 16 Unnamed: 17  \n",
       "0          Q2         Max  \n",
       "1     171.422     957.191  \n",
       "2      150.82     682.422  \n",
       "3         NaN         NaN  \n",
       "4         NaN         NaN  "
      ]
     },
     "execution_count": 19,
     "metadata": {},
     "output_type": "execute_result"
    }
   ],
   "source": [
    "import pandas as pd\n",
    "df = pd.read_excel(\"Datacollection.xlsx\", sheet_name=\"AGB data\")\n",
    "df.head()"
   ]
  },
  {
   "cell_type": "code",
   "execution_count": 20,
   "metadata": {},
   "outputs": [
    {
     "data": {
      "image/png": "[encoded data removed]",
      "text/plain": [
       "<Figure size 432x288 with 1 Axes>"
      ]
     },
     "metadata": {
      "needs_background": "light"
     },
     "output_type": "display_data"
    }
   ],
   "source": [
    "boxplot = df.boxplot(column=['W top / AGB'])"
   ]
  },
  {
   "cell_type": "code",
   "execution_count": 21,
   "metadata": {},
   "outputs": [],
   "source": [
    "df1 = df[df[\"Plot\"] == \"N1\"]\n",
    "df2 = df[df[\"Plot\"] == \"N2\"]\n",
    "df3 = df[df[\"Plot\"] == \"N3\"]\n",
    "df4 = df[df[\"Plot\"] == \"N4\"]\n",
    "df5 = df[df[\"Plot\"] == \"O1\"]\n",
    "df6 = df[df[\"Plot\"] == \"O2\"]\n",
    "df7 = df[df[\"Plot\"] == \"O3\"]\n",
    "df8 = df[df[\"Plot\"] == \"O4\"]"
   ]
  },
  {
   "cell_type": "code",
   "execution_count": 22,
   "metadata": {},
   "outputs": [],
   "source": [
    "dfNew = pd.concat([df1, df2, df3, df4])\n",
    "dfOld = pd.concat([df5, df6, df7, df8])"
   ]
  },
  {
   "cell_type": "code",
   "execution_count": 23,
   "metadata": {},
   "outputs": [
    {
     "data": {
      "text/html": [
       "<div>\n",
       "<style scoped>\n",
       "    .dataframe tbody tr th:only-of-type {\n",
       "        vertical-align: middle;\n",
       "    }\n",
       "\n",
       "    .dataframe tbody tr th {\n",
       "        vertical-align: top;\n",
       "    }\n",
       "\n",
       "    .dataframe thead th {\n",
       "        text-align: right;\n",
       "    }\n",
       "</style>\n",
       "<table border=\"1\" class=\"dataframe\">\n",
       "  <thead>\n",
       "    <tr style=\"text-align: right;\">\n",
       "      <th></th>\n",
       "      <th>S/N</th>\n",
       "      <th>Plot</th>\n",
       "      <th>Tree species (full name)</th>\n",
       "      <th>Tree Species (acronym)</th>\n",
       "      <th>Wood density (ρ)</th>\n",
       "      <th>DBH (cm)</th>\n",
       "      <th>AGB Equation</th>\n",
       "      <th>W top / AGB</th>\n",
       "      <th>Sum top AGB</th>\n",
       "      <th>Unnamed: 9</th>\n",
       "      <th>Unnamed: 10</th>\n",
       "      <th>Unnamed: 11</th>\n",
       "      <th>Unnamed: 12</th>\n",
       "      <th>Unnamed: 13</th>\n",
       "      <th>Unnamed: 14</th>\n",
       "      <th>Unnamed: 15</th>\n",
       "      <th>Unnamed: 16</th>\n",
       "      <th>Unnamed: 17</th>\n",
       "    </tr>\n",
       "  </thead>\n",
       "  <tbody>\n",
       "    <tr>\n",
       "      <th>0</th>\n",
       "      <td>1</td>\n",
       "      <td>N1</td>\n",
       "      <td>Rhizophora mucronata</td>\n",
       "      <td>RM</td>\n",
       "      <td>0.867</td>\n",
       "      <td>5.8</td>\n",
       "      <td>Wtop = 0.1709DBH^2.516</td>\n",
       "      <td>14.240554</td>\n",
       "      <td>2600.812163</td>\n",
       "      <td>NaN</td>\n",
       "      <td>NaN</td>\n",
       "      <td>NaN</td>\n",
       "      <td>NaN</td>\n",
       "      <td>NaN</td>\n",
       "      <td>Min</td>\n",
       "      <td>Q1</td>\n",
       "      <td>Q2</td>\n",
       "      <td>Max</td>\n",
       "    </tr>\n",
       "    <tr>\n",
       "      <th>1</th>\n",
       "      <td>2</td>\n",
       "      <td>N1</td>\n",
       "      <td>Avicennia officinalis</td>\n",
       "      <td>AO</td>\n",
       "      <td>0.654</td>\n",
       "      <td>8.0</td>\n",
       "      <td>Wtop = 0.251ρ D^2.46</td>\n",
       "      <td>27.343420</td>\n",
       "      <td>NaN</td>\n",
       "      <td>NaN</td>\n",
       "      <td>NaN</td>\n",
       "      <td>NaN</td>\n",
       "      <td>NaN</td>\n",
       "      <td>N1</td>\n",
       "      <td>10.3461</td>\n",
       "      <td>15.2868</td>\n",
       "      <td>171.422</td>\n",
       "      <td>957.191</td>\n",
       "    </tr>\n",
       "    <tr>\n",
       "      <th>2</th>\n",
       "      <td>3</td>\n",
       "      <td>N1</td>\n",
       "      <td>Bruguiera cylindrica</td>\n",
       "      <td>BC</td>\n",
       "      <td>0.749</td>\n",
       "      <td>7.2</td>\n",
       "      <td>Wtop = 0.251ρ D^2.46</td>\n",
       "      <td>24.165372</td>\n",
       "      <td>NaN</td>\n",
       "      <td>NaN</td>\n",
       "      <td>NaN</td>\n",
       "      <td>NaN</td>\n",
       "      <td>NaN</td>\n",
       "      <td>N2</td>\n",
       "      <td>12.6938</td>\n",
       "      <td>18.0867</td>\n",
       "      <td>150.82</td>\n",
       "      <td>682.422</td>\n",
       "    </tr>\n",
       "    <tr>\n",
       "      <th>3</th>\n",
       "      <td>4</td>\n",
       "      <td>N1</td>\n",
       "      <td>Bruguiera cylindrica</td>\n",
       "      <td>BC</td>\n",
       "      <td>0.749</td>\n",
       "      <td>6.2</td>\n",
       "      <td>Wtop = 0.251ρ D^2.46</td>\n",
       "      <td>16.727810</td>\n",
       "      <td>NaN</td>\n",
       "      <td>NaN</td>\n",
       "      <td>NaN</td>\n",
       "      <td>NaN</td>\n",
       "      <td>NaN</td>\n",
       "      <td>NaN</td>\n",
       "      <td>10.3461</td>\n",
       "      <td>NaN</td>\n",
       "      <td>NaN</td>\n",
       "      <td>NaN</td>\n",
       "    </tr>\n",
       "    <tr>\n",
       "      <th>4</th>\n",
       "      <td>5</td>\n",
       "      <td>N1</td>\n",
       "      <td>Bruguiera cylindrica</td>\n",
       "      <td>BC</td>\n",
       "      <td>0.749</td>\n",
       "      <td>7.3</td>\n",
       "      <td>Wtop = 0.251ρ D^2.46</td>\n",
       "      <td>24.999411</td>\n",
       "      <td>NaN</td>\n",
       "      <td>NaN</td>\n",
       "      <td>NaN</td>\n",
       "      <td>NaN</td>\n",
       "      <td>NaN</td>\n",
       "      <td>NaN</td>\n",
       "      <td>NaN</td>\n",
       "      <td>NaN</td>\n",
       "      <td>NaN</td>\n",
       "      <td>NaN</td>\n",
       "    </tr>\n",
       "    <tr>\n",
       "      <th>...</th>\n",
       "      <td>...</td>\n",
       "      <td>...</td>\n",
       "      <td>...</td>\n",
       "      <td>...</td>\n",
       "      <td>...</td>\n",
       "      <td>...</td>\n",
       "      <td>...</td>\n",
       "      <td>...</td>\n",
       "      <td>...</td>\n",
       "      <td>...</td>\n",
       "      <td>...</td>\n",
       "      <td>...</td>\n",
       "      <td>...</td>\n",
       "      <td>...</td>\n",
       "      <td>...</td>\n",
       "      <td>...</td>\n",
       "      <td>...</td>\n",
       "      <td>...</td>\n",
       "    </tr>\n",
       "    <tr>\n",
       "      <th>102</th>\n",
       "      <td>103</td>\n",
       "      <td>N4</td>\n",
       "      <td>Bruguiera cylindrica</td>\n",
       "      <td>BC</td>\n",
       "      <td>0.749</td>\n",
       "      <td>7.0</td>\n",
       "      <td>Wtop = 0.251ρ D^2.46</td>\n",
       "      <td>22.547413</td>\n",
       "      <td>NaN</td>\n",
       "      <td>NaN</td>\n",
       "      <td>NaN</td>\n",
       "      <td>NaN</td>\n",
       "      <td>NaN</td>\n",
       "      <td>NaN</td>\n",
       "      <td>NaN</td>\n",
       "      <td>NaN</td>\n",
       "      <td>NaN</td>\n",
       "      <td>NaN</td>\n",
       "    </tr>\n",
       "    <tr>\n",
       "      <th>103</th>\n",
       "      <td>104</td>\n",
       "      <td>N4</td>\n",
       "      <td>Bruguiera cylindrica</td>\n",
       "      <td>BC</td>\n",
       "      <td>0.749</td>\n",
       "      <td>5.3</td>\n",
       "      <td>Wtop = 0.251ρ D^2.46</td>\n",
       "      <td>11.372977</td>\n",
       "      <td>NaN</td>\n",
       "      <td>NaN</td>\n",
       "      <td>NaN</td>\n",
       "      <td>NaN</td>\n",
       "      <td>NaN</td>\n",
       "      <td>NaN</td>\n",
       "      <td>NaN</td>\n",
       "      <td>NaN</td>\n",
       "      <td>NaN</td>\n",
       "      <td>NaN</td>\n",
       "    </tr>\n",
       "    <tr>\n",
       "      <th>104</th>\n",
       "      <td>105</td>\n",
       "      <td>N4</td>\n",
       "      <td>Avicennia alba</td>\n",
       "      <td>AA</td>\n",
       "      <td>0.506</td>\n",
       "      <td>14.8</td>\n",
       "      <td>Wtop = 0.251ρ D^2.46</td>\n",
       "      <td>96.087758</td>\n",
       "      <td>NaN</td>\n",
       "      <td>NaN</td>\n",
       "      <td>NaN</td>\n",
       "      <td>NaN</td>\n",
       "      <td>NaN</td>\n",
       "      <td>NaN</td>\n",
       "      <td>NaN</td>\n",
       "      <td>NaN</td>\n",
       "      <td>NaN</td>\n",
       "      <td>NaN</td>\n",
       "    </tr>\n",
       "    <tr>\n",
       "      <th>105</th>\n",
       "      <td>106</td>\n",
       "      <td>N4</td>\n",
       "      <td>Sonneratia alba</td>\n",
       "      <td>SA</td>\n",
       "      <td>0.78</td>\n",
       "      <td>51.2</td>\n",
       "      <td>Wtop = 0.251ρ D^2.46</td>\n",
       "      <td>3137.418320</td>\n",
       "      <td>NaN</td>\n",
       "      <td>NaN</td>\n",
       "      <td>NaN</td>\n",
       "      <td>NaN</td>\n",
       "      <td>NaN</td>\n",
       "      <td>NaN</td>\n",
       "      <td>NaN</td>\n",
       "      <td>NaN</td>\n",
       "      <td>NaN</td>\n",
       "      <td>NaN</td>\n",
       "    </tr>\n",
       "    <tr>\n",
       "      <th>106</th>\n",
       "      <td>107</td>\n",
       "      <td>N4</td>\n",
       "      <td>Rhizophora stylosa</td>\n",
       "      <td>RS</td>\n",
       "      <td>0.91</td>\n",
       "      <td>34.0</td>\n",
       "      <td>Wtop = 0.1579 DBH^2.593</td>\n",
       "      <td>1477.430165</td>\n",
       "      <td>NaN</td>\n",
       "      <td>NaN</td>\n",
       "      <td>NaN</td>\n",
       "      <td>NaN</td>\n",
       "      <td>NaN</td>\n",
       "      <td>NaN</td>\n",
       "      <td>NaN</td>\n",
       "      <td>NaN</td>\n",
       "      <td>NaN</td>\n",
       "      <td>NaN</td>\n",
       "    </tr>\n",
       "  </tbody>\n",
       "</table>\n",
       "<p>74 rows × 18 columns</p>\n",
       "</div>"
      ],
      "text/plain": [
       "     S/N Plot Tree species (full name) Tree Species (acronym)  \\\n",
       "0      1   N1     Rhizophora mucronata                     RM   \n",
       "1      2   N1    Avicennia officinalis                     AO   \n",
       "2      3   N1     Bruguiera cylindrica                     BC   \n",
       "3      4   N1     Bruguiera cylindrica                     BC   \n",
       "4      5   N1     Bruguiera cylindrica                     BC   \n",
       "..   ...  ...                      ...                    ...   \n",
       "102  103   N4     Bruguiera cylindrica                     BC   \n",
       "103  104   N4     Bruguiera cylindrica                     BC   \n",
       "104  105   N4           Avicennia alba                     AA   \n",
       "105  106   N4          Sonneratia alba                     SA   \n",
       "106  107   N4       Rhizophora stylosa                     RS   \n",
       "\n",
       "    Wood density (ρ)  DBH (cm)             AGB Equation  W top / AGB  \\\n",
       "0              0.867       5.8   Wtop = 0.1709DBH^2.516    14.240554   \n",
       "1              0.654       8.0     Wtop = 0.251ρ D^2.46    27.343420   \n",
       "2              0.749       7.2     Wtop = 0.251ρ D^2.46    24.165372   \n",
       "3              0.749       6.2     Wtop = 0.251ρ D^2.46    16.727810   \n",
       "4              0.749       7.3     Wtop = 0.251ρ D^2.46    24.999411   \n",
       "..               ...       ...                      ...          ...   \n",
       "102            0.749       7.0     Wtop = 0.251ρ D^2.46    22.547413   \n",
       "103            0.749       5.3     Wtop = 0.251ρ D^2.46    11.372977   \n",
       "104            0.506      14.8     Wtop = 0.251ρ D^2.46    96.087758   \n",
       "105             0.78      51.2     Wtop = 0.251ρ D^2.46  3137.418320   \n",
       "106             0.91      34.0  Wtop = 0.1579 DBH^2.593  1477.430165   \n",
       "\n",
       "     Sum top AGB  Unnamed: 9 Unnamed: 10 Unnamed: 11  Unnamed: 12 Unnamed: 13  \\\n",
       "0    2600.812163         NaN         NaN         NaN          NaN         NaN   \n",
       "1            NaN         NaN         NaN         NaN          NaN          N1   \n",
       "2            NaN         NaN         NaN         NaN          NaN          N2   \n",
       "3            NaN         NaN         NaN         NaN          NaN         NaN   \n",
       "4            NaN         NaN         NaN         NaN          NaN         NaN   \n",
       "..           ...         ...         ...         ...          ...         ...   \n",
       "102          NaN         NaN         NaN         NaN          NaN         NaN   \n",
       "103          NaN         NaN         NaN         NaN          NaN         NaN   \n",
       "104          NaN         NaN         NaN         NaN          NaN         NaN   \n",
       "105          NaN         NaN         NaN         NaN          NaN         NaN   \n",
       "106          NaN         NaN         NaN         NaN          NaN         NaN   \n",
       "\n",
       "    Unnamed: 14 Unnamed: 15 Unnamed: 16 Unnamed: 17  \n",
       "0           Min          Q1          Q2         Max  \n",
       "1       10.3461     15.2868     171.422     957.191  \n",
       "2       12.6938     18.0867      150.82     682.422  \n",
       "3       10.3461         NaN         NaN         NaN  \n",
       "4           NaN         NaN         NaN         NaN  \n",
       "..          ...         ...         ...         ...  \n",
       "102         NaN         NaN         NaN         NaN  \n",
       "103         NaN         NaN         NaN         NaN  \n",
       "104         NaN         NaN         NaN         NaN  \n",
       "105         NaN         NaN         NaN         NaN  \n",
       "106         NaN         NaN         NaN         NaN  \n",
       "\n",
       "[74 rows x 18 columns]"
      ]
     },
     "execution_count": 23,
     "metadata": {},
     "output_type": "execute_result"
    }
   ],
   "source": [
    "dfNew"
   ]
  },
  {
   "cell_type": "code",
   "execution_count": 24,
   "metadata": {},
   "outputs": [],
   "source": [
    "import numpy as np\n",
    "dfNew[\"old\"] = pd.Series(list(dfOld[\"W top / AGB\"]))\n",
    "dfNew[\"LnNew\"] = pd.Series(np.log(list(dfNew[\"W top / AGB\"]))) \n",
    "dfNew[\"LnOld\"] = pd.Series(np.log(list(dfNew[\"old\"])))\n",
    "dfNew[\"new\"] = pd.Series(list(dfNew[\"W top / AGB\"]))"
   ]
  },
  {
   "cell_type": "code",
   "execution_count": 25,
   "metadata": {},
   "outputs": [
    {
     "data": {
      "text/html": [
       "<div>\n",
       "<style scoped>\n",
       "    .dataframe tbody tr th:only-of-type {\n",
       "        vertical-align: middle;\n",
       "    }\n",
       "\n",
       "    .dataframe tbody tr th {\n",
       "        vertical-align: top;\n",
       "    }\n",
       "\n",
       "    .dataframe thead th {\n",
       "        text-align: right;\n",
       "    }\n",
       "</style>\n",
       "<table border=\"1\" class=\"dataframe\">\n",
       "  <thead>\n",
       "    <tr style=\"text-align: right;\">\n",
       "      <th></th>\n",
       "      <th>S/N</th>\n",
       "      <th>Plot</th>\n",
       "      <th>Tree species (full name)</th>\n",
       "      <th>Tree Species (acronym)</th>\n",
       "      <th>Wood density (ρ)</th>\n",
       "      <th>DBH (cm)</th>\n",
       "      <th>AGB Equation</th>\n",
       "      <th>W top / AGB</th>\n",
       "      <th>Sum top AGB</th>\n",
       "      <th>Unnamed: 9</th>\n",
       "      <th>...</th>\n",
       "      <th>Unnamed: 12</th>\n",
       "      <th>Unnamed: 13</th>\n",
       "      <th>Unnamed: 14</th>\n",
       "      <th>Unnamed: 15</th>\n",
       "      <th>Unnamed: 16</th>\n",
       "      <th>Unnamed: 17</th>\n",
       "      <th>old</th>\n",
       "      <th>LnNew</th>\n",
       "      <th>LnOld</th>\n",
       "      <th>new</th>\n",
       "    </tr>\n",
       "  </thead>\n",
       "  <tbody>\n",
       "    <tr>\n",
       "      <th>0</th>\n",
       "      <td>1</td>\n",
       "      <td>N1</td>\n",
       "      <td>Rhizophora mucronata</td>\n",
       "      <td>RM</td>\n",
       "      <td>0.867</td>\n",
       "      <td>5.8</td>\n",
       "      <td>Wtop = 0.1709DBH^2.516</td>\n",
       "      <td>14.240554</td>\n",
       "      <td>2600.812163</td>\n",
       "      <td>NaN</td>\n",
       "      <td>...</td>\n",
       "      <td>NaN</td>\n",
       "      <td>NaN</td>\n",
       "      <td>Min</td>\n",
       "      <td>Q1</td>\n",
       "      <td>Q2</td>\n",
       "      <td>Max</td>\n",
       "      <td>31.315324</td>\n",
       "      <td>2.656094</td>\n",
       "      <td>3.444108</td>\n",
       "      <td>14.240554</td>\n",
       "    </tr>\n",
       "    <tr>\n",
       "      <th>1</th>\n",
       "      <td>2</td>\n",
       "      <td>N1</td>\n",
       "      <td>Avicennia officinalis</td>\n",
       "      <td>AO</td>\n",
       "      <td>0.654</td>\n",
       "      <td>8.0</td>\n",
       "      <td>Wtop = 0.251ρ D^2.46</td>\n",
       "      <td>27.343420</td>\n",
       "      <td>NaN</td>\n",
       "      <td>NaN</td>\n",
       "      <td>...</td>\n",
       "      <td>NaN</td>\n",
       "      <td>N1</td>\n",
       "      <td>10.3461</td>\n",
       "      <td>15.2868</td>\n",
       "      <td>171.422</td>\n",
       "      <td>957.191</td>\n",
       "      <td>350.290040</td>\n",
       "      <td>3.308476</td>\n",
       "      <td>5.858761</td>\n",
       "      <td>27.343420</td>\n",
       "    </tr>\n",
       "    <tr>\n",
       "      <th>2</th>\n",
       "      <td>3</td>\n",
       "      <td>N1</td>\n",
       "      <td>Bruguiera cylindrica</td>\n",
       "      <td>BC</td>\n",
       "      <td>0.749</td>\n",
       "      <td>7.2</td>\n",
       "      <td>Wtop = 0.251ρ D^2.46</td>\n",
       "      <td>24.165372</td>\n",
       "      <td>NaN</td>\n",
       "      <td>NaN</td>\n",
       "      <td>...</td>\n",
       "      <td>NaN</td>\n",
       "      <td>N2</td>\n",
       "      <td>12.6938</td>\n",
       "      <td>18.0867</td>\n",
       "      <td>150.82</td>\n",
       "      <td>682.422</td>\n",
       "      <td>84.906591</td>\n",
       "      <td>3.184921</td>\n",
       "      <td>4.441552</td>\n",
       "      <td>24.165372</td>\n",
       "    </tr>\n",
       "    <tr>\n",
       "      <th>3</th>\n",
       "      <td>4</td>\n",
       "      <td>N1</td>\n",
       "      <td>Bruguiera cylindrica</td>\n",
       "      <td>BC</td>\n",
       "      <td>0.749</td>\n",
       "      <td>6.2</td>\n",
       "      <td>Wtop = 0.251ρ D^2.46</td>\n",
       "      <td>16.727810</td>\n",
       "      <td>NaN</td>\n",
       "      <td>NaN</td>\n",
       "      <td>...</td>\n",
       "      <td>NaN</td>\n",
       "      <td>NaN</td>\n",
       "      <td>10.3461</td>\n",
       "      <td>NaN</td>\n",
       "      <td>NaN</td>\n",
       "      <td>NaN</td>\n",
       "      <td>140.842463</td>\n",
       "      <td>2.817073</td>\n",
       "      <td>4.947642</td>\n",
       "      <td>16.727810</td>\n",
       "    </tr>\n",
       "    <tr>\n",
       "      <th>4</th>\n",
       "      <td>5</td>\n",
       "      <td>N1</td>\n",
       "      <td>Bruguiera cylindrica</td>\n",
       "      <td>BC</td>\n",
       "      <td>0.749</td>\n",
       "      <td>7.3</td>\n",
       "      <td>Wtop = 0.251ρ D^2.46</td>\n",
       "      <td>24.999411</td>\n",
       "      <td>NaN</td>\n",
       "      <td>NaN</td>\n",
       "      <td>...</td>\n",
       "      <td>NaN</td>\n",
       "      <td>NaN</td>\n",
       "      <td>NaN</td>\n",
       "      <td>NaN</td>\n",
       "      <td>NaN</td>\n",
       "      <td>NaN</td>\n",
       "      <td>188.634635</td>\n",
       "      <td>3.218852</td>\n",
       "      <td>5.239812</td>\n",
       "      <td>24.999411</td>\n",
       "    </tr>\n",
       "  </tbody>\n",
       "</table>\n",
       "<p>5 rows × 22 columns</p>\n",
       "</div>"
      ],
      "text/plain": [
       "   S/N Plot Tree species (full name) Tree Species (acronym) Wood density (ρ)  \\\n",
       "0    1   N1     Rhizophora mucronata                     RM            0.867   \n",
       "1    2   N1    Avicennia officinalis                     AO            0.654   \n",
       "2    3   N1     Bruguiera cylindrica                     BC            0.749   \n",
       "3    4   N1     Bruguiera cylindrica                     BC            0.749   \n",
       "4    5   N1     Bruguiera cylindrica                     BC            0.749   \n",
       "\n",
       "   DBH (cm)            AGB Equation  W top / AGB  Sum top AGB  Unnamed: 9  \\\n",
       "0       5.8  Wtop = 0.1709DBH^2.516    14.240554  2600.812163         NaN   \n",
       "1       8.0    Wtop = 0.251ρ D^2.46    27.343420          NaN         NaN   \n",
       "2       7.2    Wtop = 0.251ρ D^2.46    24.165372          NaN         NaN   \n",
       "3       6.2    Wtop = 0.251ρ D^2.46    16.727810          NaN         NaN   \n",
       "4       7.3    Wtop = 0.251ρ D^2.46    24.999411          NaN         NaN   \n",
       "\n",
       "   ... Unnamed: 12 Unnamed: 13  Unnamed: 14 Unnamed: 15 Unnamed: 16  \\\n",
       "0  ...         NaN         NaN          Min          Q1          Q2   \n",
       "1  ...         NaN          N1      10.3461     15.2868     171.422   \n",
       "2  ...         NaN          N2      12.6938     18.0867      150.82   \n",
       "3  ...         NaN         NaN      10.3461         NaN         NaN   \n",
       "4  ...         NaN         NaN          NaN         NaN         NaN   \n",
       "\n",
       "  Unnamed: 17         old     LnNew     LnOld        new  \n",
       "0         Max   31.315324  2.656094  3.444108  14.240554  \n",
       "1     957.191  350.290040  3.308476  5.858761  27.343420  \n",
       "2     682.422   84.906591  3.184921  4.441552  24.165372  \n",
       "3         NaN  140.842463  2.817073  4.947642  16.727810  \n",
       "4         NaN  188.634635  3.218852  5.239812  24.999411  \n",
       "\n",
       "[5 rows x 22 columns]"
      ]
     },
     "execution_count": 25,
     "metadata": {},
     "output_type": "execute_result"
    }
   ],
   "source": [
    "dfNew.head()"
   ]
  },
  {
   "cell_type": "code",
   "execution_count": 26,
   "metadata": {},
   "outputs": [
    {
     "data": {
      "text/plain": [
       "Text(0, 0.5, 'AGB Mg (C/ha)')"
      ]
     },
     "execution_count": 26,
     "metadata": {},
     "output_type": "execute_result"
    },
    {
     "data": {
      "image/png": "[encoded data removed]",
      "text/plain": [
       "<Figure size 432x288 with 1 Axes>"
      ]
     },
     "metadata": {
      "needs_background": "light"
     },
     "output_type": "display_data"
    }
   ],
   "source": [
    "# bp = dfNew.hist(column=[\"new\", \"old\"])\n",
    "bp = dfNew.boxplot(column=[\"new\", \"old\"])\n",
    "bp.set_ylabel(\"AGB Mg (C/ha)\")"
   ]
  },
  {
   "cell_type": "code",
   "execution_count": 28,
   "metadata": {},
   "outputs": [
    {
     "data": {
      "text/plain": [
       "Text(0.5, 0, 'AGB (Mg C/ha)')"
      ]
     },
     "execution_count": 28,
     "metadata": {},
     "output_type": "execute_result"
    },
    {
     "data": {
      "image/png": "[encoded data removed]",
      "text/plain": [
       "<Figure size 432x288 with 2 Axes>"
      ]
     },
     "metadata": {
      "needs_background": "light"
     },
     "output_type": "display_data"
    }
   ],
   "source": [
    "# bp = dfNew.boxplot(column=[\"W top / AGB\", \"old\"])\n",
    "bp = dfNew.hist(column=[\"new\", \"old\"])\n",
    "bp.flatten()[0].set_xlabel(\"AGB (Mg C/ha)\")\n",
    "bp.flatten()[1].set_xlabel(\"AGB (Mg C/ha)\")"
   ]
  },
  {
   "cell_type": "code",
   "execution_count": 27,
   "metadata": {},
   "outputs": [
    {
     "data": {
      "text/plain": [
       "Text(0.5, 0, 'Log AGB')"
      ]
     },
     "execution_count": 27,
     "metadata": {},
     "output_type": "execute_result"
    },
    {
     "data": {
      "image/png": "[encoded data removed]",
      "text/plain": [
       "<Figure size 432x288 with 2 Axes>"
      ]
     },
     "metadata": {
      "needs_background": "light"
     },
     "output_type": "display_data"
    }
   ],
   "source": [
    "bp = dfNew.hist(column=[\"LnNew\", \"LnOld\"])\n",
    "bp.flatten()[0].set_xlabel(\"Log AGB\")\n",
    "bp.flatten()[1].set_xlabel(\"Log AGB\")"
   ]
  },
  {
   "cell_type": "code",
   "execution_count": 2,
   "metadata": {},
   "outputs": [
    {
     "ename": "NameError",
     "evalue": "name 'dfNew' is not defined",
     "output_type": "error",
     "traceback": [
      "\u001b[1;31m---------------------------------------------------------------------------\u001b[0m",
      "\u001b[1;31mNameError\u001b[0m                                 Traceback (most recent call last)",
      "\u001b[1;32m<ipython-input-2-bbaec3d8fee1>\u001b[0m in \u001b[0;36m<module>\u001b[1;34m\u001b[0m\n\u001b[0;32m      1\u001b[0m \u001b[1;32mfrom\u001b[0m \u001b[0mscipy\u001b[0m \u001b[1;32mimport\u001b[0m \u001b[0mstats\u001b[0m\u001b[1;33m\u001b[0m\u001b[1;33m\u001b[0m\u001b[0m\n\u001b[0;32m      2\u001b[0m \u001b[1;32mimport\u001b[0m \u001b[0mmatplotlib\u001b[0m\u001b[1;33m.\u001b[0m\u001b[0mpyplot\u001b[0m \u001b[1;32mas\u001b[0m \u001b[0mplt\u001b[0m\u001b[1;33m\u001b[0m\u001b[1;33m\u001b[0m\u001b[0m\n\u001b[1;32m----> 3\u001b[1;33m \u001b[0mstats\u001b[0m\u001b[1;33m.\u001b[0m\u001b[0mprobplot\u001b[0m\u001b[1;33m(\u001b[0m\u001b[0mdfNew\u001b[0m\u001b[1;33m[\u001b[0m\u001b[1;34m'LnNew'\u001b[0m\u001b[1;33m]\u001b[0m\u001b[1;33m,\u001b[0m \u001b[0mdist\u001b[0m\u001b[1;33m=\u001b[0m\u001b[1;34m\"norm\"\u001b[0m\u001b[1;33m,\u001b[0m \u001b[0mplot\u001b[0m\u001b[1;33m=\u001b[0m\u001b[0mplt\u001b[0m\u001b[1;33m)\u001b[0m\u001b[1;33m\u001b[0m\u001b[1;33m\u001b[0m\u001b[0m\n\u001b[0m\u001b[0;32m      4\u001b[0m \u001b[0mplt\u001b[0m\u001b[1;33m.\u001b[0m\u001b[0mtitle\u001b[0m\u001b[1;33m(\u001b[0m\u001b[1;34m\"New Mangroves Q-Q Plot\"\u001b[0m\u001b[1;33m)\u001b[0m\u001b[1;33m\u001b[0m\u001b[1;33m\u001b[0m\u001b[0m\n\u001b[0;32m      5\u001b[0m \u001b[0mplt\u001b[0m\u001b[1;33m.\u001b[0m\u001b[0mline\u001b[0m\u001b[1;33m(\u001b[0m\u001b[0mline\u001b[0m\u001b[1;33m=\u001b[0m\u001b[1;34m\"45\"\u001b[0m\u001b[1;33m,\u001b[0m \u001b[0mother\u001b[0m\u001b[1;33m=\u001b[0m\u001b[0mpp_y\u001b[0m\u001b[1;33m)\u001b[0m\u001b[1;33m\u001b[0m\u001b[1;33m\u001b[0m\u001b[0m\n",
      "\u001b[1;31mNameError\u001b[0m: name 'dfNew' is not defined"
     ]
    }
   ],
   "source": [
    "from scipy import stats\n",
    "import matplotlib.pyplot as plt\n",
    "stats.probplot(dfNew['LnNew'], dist=\"norm\", plot=plt)\n",
    "plt.title(\"New Mangroves Q-Q Plot\")\n",
    "plt.line(line=\"45\", other=pp_y)\n",
    "# plt.ylabel(\"a\")"
   ]
  },
  {
   "cell_type": "code",
   "execution_count": 261,
   "metadata": {},
   "outputs": [
    {
     "name": "stderr",
     "output_type": "stream",
     "text": [
      "C:\\Users\\Chu\\anaconda3\\lib\\site-packages\\scipy\\stats\\_distn_infrastructure.py:1932: RuntimeWarning: invalid value encountered in less_equal\n",
      "  cond2 = cond0 & (x <= _a)\n"
     ]
    },
    {
     "data": {
      "text/plain": [
       "Text(0.5, 1.0, 'Old Mangroves Q-Q Plot')"
      ]
     },
     "execution_count": 261,
     "metadata": {},
     "output_type": "execute_result"
    },
    {
     "data": {
      "image/png": "[encoded data removed]",
      "text/plain": [
       "<Figure size 432x288 with 1 Axes>"
      ]
     },
     "metadata": {
      "needs_background": "light"
     },
     "output_type": "display_data"
    }
   ],
   "source": [
    "stats.probplot(dfNew['LnOld'], dist=\"norm\", plot=plt)\n",
    "plt.title(\"Old Mangroves Q-Q Plot\")"
   ]
  },
  {
   "cell_type": "code",
   "execution_count": 264,
   "metadata": {
    "scrolled": true
   },
   "outputs": [
    {
     "data": {
      "text/plain": [
       "MannwhitneyuResult(statistic=4.0, pvalue=0.156160710838108)"
      ]
     },
     "execution_count": 264,
     "metadata": {},
     "output_type": "execute_result"
    }
   ],
   "source": [
    "stats.mannwhitneyu([3834.858607,1722.944185,2644.438515,9205.161519], [2600.812163, 1469.725361, 1005.384055, 5883.341739])"
   ]
  },
  {
   "cell_type": "code",
   "execution_count": 347,
   "metadata": {},
   "outputs": [
    {
     "data": {
      "text/html": [
       "<div>\n",
       "<style scoped>\n",
       "    .dataframe tbody tr th:only-of-type {\n",
       "        vertical-align: middle;\n",
       "    }\n",
       "\n",
       "    .dataframe tbody tr th {\n",
       "        vertical-align: top;\n",
       "    }\n",
       "\n",
       "    .dataframe thead th {\n",
       "        text-align: right;\n",
       "    }\n",
       "</style>\n",
       "<table border=\"1\" class=\"dataframe\">\n",
       "  <thead>\n",
       "    <tr style=\"text-align: right;\">\n",
       "      <th></th>\n",
       "      <th>Plot number</th>\n",
       "      <th>Depth (cm)</th>\n",
       "      <th>pH (DI)</th>\n",
       "      <th>pH (soil)</th>\n",
       "      <th>Volume of soil / cm3</th>\n",
       "      <th>Soil Mass /g</th>\n",
       "      <th>Soil bulk density (g/cm^3)</th>\n",
       "      <th>Soil carbon concentration (%)</th>\n",
       "      <th>Soil carbon density (g/cm^3)</th>\n",
       "      <th>Soil Carbon Mass (g/cm2)</th>\n",
       "      <th>Total soil carbon for each plot (g/cm^2)</th>\n",
       "      <th>Total soil carbon for each plot (Mg/ha)</th>\n",
       "    </tr>\n",
       "  </thead>\n",
       "  <tbody>\n",
       "    <tr>\n",
       "      <th>0</th>\n",
       "      <td>1 (N1)</td>\n",
       "      <td>0-15</td>\n",
       "      <td>7.04</td>\n",
       "      <td>6.85</td>\n",
       "      <td>5.2</td>\n",
       "      <td>19.09</td>\n",
       "      <td>3.671154</td>\n",
       "      <td>0.007118</td>\n",
       "      <td>0.026130</td>\n",
       "      <td>0.391948</td>\n",
       "      <td>1.342727</td>\n",
       "      <td>134.272677</td>\n",
       "    </tr>\n",
       "    <tr>\n",
       "      <th>1</th>\n",
       "      <td>NaN</td>\n",
       "      <td>15-30</td>\n",
       "      <td>NaN</td>\n",
       "      <td>6.81</td>\n",
       "      <td>5.2</td>\n",
       "      <td>12.01</td>\n",
       "      <td>2.309615</td>\n",
       "      <td>0.009523</td>\n",
       "      <td>0.021995</td>\n",
       "      <td>0.329927</td>\n",
       "      <td>NaN</td>\n",
       "      <td>NaN</td>\n",
       "    </tr>\n",
       "    <tr>\n",
       "      <th>2</th>\n",
       "      <td>NaN</td>\n",
       "      <td>30-50</td>\n",
       "      <td>NaN</td>\n",
       "      <td>6.93</td>\n",
       "      <td>5.2</td>\n",
       "      <td>12.13</td>\n",
       "      <td>2.332692</td>\n",
       "      <td>0.007094</td>\n",
       "      <td>0.016549</td>\n",
       "      <td>0.330975</td>\n",
       "      <td>NaN</td>\n",
       "      <td>NaN</td>\n",
       "    </tr>\n",
       "    <tr>\n",
       "      <th>3</th>\n",
       "      <td>NaN</td>\n",
       "      <td>50-100</td>\n",
       "      <td>NaN</td>\n",
       "      <td>6.93</td>\n",
       "      <td>5.2</td>\n",
       "      <td>12.13</td>\n",
       "      <td>2.332692</td>\n",
       "      <td>0.004971</td>\n",
       "      <td>0.011595</td>\n",
       "      <td>0.289876</td>\n",
       "      <td>NaN</td>\n",
       "      <td>NaN</td>\n",
       "    </tr>\n",
       "    <tr>\n",
       "      <th>4</th>\n",
       "      <td>2 (N2)</td>\n",
       "      <td>0-15</td>\n",
       "      <td>6.95</td>\n",
       "      <td>6.98</td>\n",
       "      <td>5.2</td>\n",
       "      <td>19.13</td>\n",
       "      <td>3.678846</td>\n",
       "      <td>0.014484</td>\n",
       "      <td>0.053285</td>\n",
       "      <td>0.799275</td>\n",
       "      <td>2.015581</td>\n",
       "      <td>201.558109</td>\n",
       "    </tr>\n",
       "  </tbody>\n",
       "</table>\n",
       "</div>"
      ],
      "text/plain": [
       "  Plot number Depth (cm)  pH (DI)  pH (soil)  Volume of soil / cm3  \\\n",
       "0      1 (N1)       0-15     7.04       6.85                   5.2   \n",
       "1         NaN      15-30      NaN       6.81                   5.2   \n",
       "2         NaN      30-50      NaN       6.93                   5.2   \n",
       "3         NaN     50-100      NaN       6.93                   5.2   \n",
       "4      2 (N2)       0-15     6.95       6.98                   5.2   \n",
       "\n",
       "   Soil Mass /g  Soil bulk density (g/cm^3)  Soil carbon concentration (%)  \\\n",
       "0         19.09                    3.671154                       0.007118   \n",
       "1         12.01                    2.309615                       0.009523   \n",
       "2         12.13                    2.332692                       0.007094   \n",
       "3         12.13                    2.332692                       0.004971   \n",
       "4         19.13                    3.678846                       0.014484   \n",
       "\n",
       "   Soil carbon density (g/cm^3)  Soil Carbon Mass (g/cm2)  \\\n",
       "0                      0.026130                  0.391948   \n",
       "1                      0.021995                  0.329927   \n",
       "2                      0.016549                  0.330975   \n",
       "3                      0.011595                  0.289876   \n",
       "4                      0.053285                  0.799275   \n",
       "\n",
       "   Total soil carbon for each plot (g/cm^2)  \\\n",
       "0                                  1.342727   \n",
       "1                                       NaN   \n",
       "2                                       NaN   \n",
       "3                                       NaN   \n",
       "4                                  2.015581   \n",
       "\n",
       "   Total soil carbon for each plot (Mg/ha)  \n",
       "0                               134.272677  \n",
       "1                                      NaN  \n",
       "2                                      NaN  \n",
       "3                                      NaN  \n",
       "4                               201.558109  "
      ]
     },
     "execution_count": 347,
     "metadata": {},
     "output_type": "execute_result"
    }
   ],
   "source": [
    "df = pd.read_excel(\"Datacollection.xlsx\", sheet_name=\"Soil data\")\n",
    "df.head()"
   ]
  },
  {
   "cell_type": "code",
   "execution_count": 348,
   "metadata": {},
   "outputs": [],
   "source": [
    "dfNew = df.iloc[:16]\n",
    "dfOld = df.iloc[16:]"
   ]
  },
  {
   "cell_type": "code",
   "execution_count": 349,
   "metadata": {},
   "outputs": [
    {
     "data": {
      "text/html": [
       "<div>\n",
       "<style scoped>\n",
       "    .dataframe tbody tr th:only-of-type {\n",
       "        vertical-align: middle;\n",
       "    }\n",
       "\n",
       "    .dataframe tbody tr th {\n",
       "        vertical-align: top;\n",
       "    }\n",
       "\n",
       "    .dataframe thead th {\n",
       "        text-align: right;\n",
       "    }\n",
       "</style>\n",
       "<table border=\"1\" class=\"dataframe\">\n",
       "  <thead>\n",
       "    <tr style=\"text-align: right;\">\n",
       "      <th></th>\n",
       "      <th>Plot number</th>\n",
       "      <th>Depth (cm)</th>\n",
       "      <th>pH (DI)</th>\n",
       "      <th>pH (soil)</th>\n",
       "      <th>Volume of soil / cm3</th>\n",
       "      <th>Soil Mass /g</th>\n",
       "      <th>Soil bulk density (g/cm^3)</th>\n",
       "      <th>Soil carbon concentration (%)</th>\n",
       "      <th>Soil carbon density (g/cm^3)</th>\n",
       "      <th>Soil Carbon Mass (g/cm2)</th>\n",
       "      <th>Total soil carbon for each plot (g/cm^2)</th>\n",
       "      <th>Total soil carbon for each plot (Mg/ha)</th>\n",
       "      <th>new</th>\n",
       "      <th>old</th>\n",
       "    </tr>\n",
       "  </thead>\n",
       "  <tbody>\n",
       "    <tr>\n",
       "      <th>0</th>\n",
       "      <td>1 (N1)</td>\n",
       "      <td>0-15</td>\n",
       "      <td>7.04</td>\n",
       "      <td>6.85</td>\n",
       "      <td>5.2</td>\n",
       "      <td>19.09</td>\n",
       "      <td>3.671154</td>\n",
       "      <td>0.007118</td>\n",
       "      <td>0.026130</td>\n",
       "      <td>0.391948</td>\n",
       "      <td>1.342727</td>\n",
       "      <td>134.272677</td>\n",
       "      <td>0.391948</td>\n",
       "      <td>0.991912</td>\n",
       "    </tr>\n",
       "    <tr>\n",
       "      <th>1</th>\n",
       "      <td>NaN</td>\n",
       "      <td>15-30</td>\n",
       "      <td>NaN</td>\n",
       "      <td>6.81</td>\n",
       "      <td>5.2</td>\n",
       "      <td>12.01</td>\n",
       "      <td>2.309615</td>\n",
       "      <td>0.009523</td>\n",
       "      <td>0.021995</td>\n",
       "      <td>0.329927</td>\n",
       "      <td>NaN</td>\n",
       "      <td>NaN</td>\n",
       "      <td>0.329927</td>\n",
       "      <td>0.391178</td>\n",
       "    </tr>\n",
       "    <tr>\n",
       "      <th>2</th>\n",
       "      <td>NaN</td>\n",
       "      <td>30-50</td>\n",
       "      <td>NaN</td>\n",
       "      <td>6.93</td>\n",
       "      <td>5.2</td>\n",
       "      <td>12.13</td>\n",
       "      <td>2.332692</td>\n",
       "      <td>0.007094</td>\n",
       "      <td>0.016549</td>\n",
       "      <td>0.330975</td>\n",
       "      <td>NaN</td>\n",
       "      <td>NaN</td>\n",
       "      <td>0.330975</td>\n",
       "      <td>0.368719</td>\n",
       "    </tr>\n",
       "    <tr>\n",
       "      <th>3</th>\n",
       "      <td>NaN</td>\n",
       "      <td>50-100</td>\n",
       "      <td>NaN</td>\n",
       "      <td>6.93</td>\n",
       "      <td>5.2</td>\n",
       "      <td>12.13</td>\n",
       "      <td>2.332692</td>\n",
       "      <td>0.004971</td>\n",
       "      <td>0.011595</td>\n",
       "      <td>0.289876</td>\n",
       "      <td>NaN</td>\n",
       "      <td>NaN</td>\n",
       "      <td>0.289876</td>\n",
       "      <td>1.223659</td>\n",
       "    </tr>\n",
       "    <tr>\n",
       "      <th>4</th>\n",
       "      <td>2 (N2)</td>\n",
       "      <td>0-15</td>\n",
       "      <td>6.95</td>\n",
       "      <td>6.98</td>\n",
       "      <td>5.2</td>\n",
       "      <td>19.13</td>\n",
       "      <td>3.678846</td>\n",
       "      <td>0.014484</td>\n",
       "      <td>0.053285</td>\n",
       "      <td>0.799275</td>\n",
       "      <td>2.015581</td>\n",
       "      <td>201.558109</td>\n",
       "      <td>0.799275</td>\n",
       "      <td>0.956987</td>\n",
       "    </tr>\n",
       "    <tr>\n",
       "      <th>5</th>\n",
       "      <td>NaN</td>\n",
       "      <td>15-30</td>\n",
       "      <td>NaN</td>\n",
       "      <td>7.37</td>\n",
       "      <td>5.2</td>\n",
       "      <td>12.57</td>\n",
       "      <td>2.417308</td>\n",
       "      <td>0.013333</td>\n",
       "      <td>0.032230</td>\n",
       "      <td>0.483446</td>\n",
       "      <td>NaN</td>\n",
       "      <td>NaN</td>\n",
       "      <td>0.483446</td>\n",
       "      <td>1.055366</td>\n",
       "    </tr>\n",
       "    <tr>\n",
       "      <th>6</th>\n",
       "      <td>NaN</td>\n",
       "      <td>30-50</td>\n",
       "      <td>NaN</td>\n",
       "      <td>7.22</td>\n",
       "      <td>5.2</td>\n",
       "      <td>12.42</td>\n",
       "      <td>2.388462</td>\n",
       "      <td>0.006523</td>\n",
       "      <td>0.015581</td>\n",
       "      <td>0.311615</td>\n",
       "      <td>NaN</td>\n",
       "      <td>NaN</td>\n",
       "      <td>0.311615</td>\n",
       "      <td>0.547408</td>\n",
       "    </tr>\n",
       "    <tr>\n",
       "      <th>7</th>\n",
       "      <td>NaN</td>\n",
       "      <td>50-100</td>\n",
       "      <td>NaN</td>\n",
       "      <td>6.99</td>\n",
       "      <td>5.2</td>\n",
       "      <td>12.19</td>\n",
       "      <td>2.344231</td>\n",
       "      <td>0.005990</td>\n",
       "      <td>0.014041</td>\n",
       "      <td>0.421245</td>\n",
       "      <td>NaN</td>\n",
       "      <td>NaN</td>\n",
       "      <td>0.421245</td>\n",
       "      <td>5.341915</td>\n",
       "    </tr>\n",
       "    <tr>\n",
       "      <th>8</th>\n",
       "      <td>3 (N3)</td>\n",
       "      <td>0-15</td>\n",
       "      <td>7.55</td>\n",
       "      <td>7.55</td>\n",
       "      <td>5.2</td>\n",
       "      <td>20.30</td>\n",
       "      <td>3.903846</td>\n",
       "      <td>0.030674</td>\n",
       "      <td>0.119746</td>\n",
       "      <td>1.796190</td>\n",
       "      <td>3.319584</td>\n",
       "      <td>331.958442</td>\n",
       "      <td>1.796190</td>\n",
       "      <td>0.856973</td>\n",
       "    </tr>\n",
       "    <tr>\n",
       "      <th>9</th>\n",
       "      <td>NaN</td>\n",
       "      <td>15-30</td>\n",
       "      <td>NaN</td>\n",
       "      <td>7.62</td>\n",
       "      <td>5.2</td>\n",
       "      <td>12.82</td>\n",
       "      <td>2.465385</td>\n",
       "      <td>0.018016</td>\n",
       "      <td>0.044416</td>\n",
       "      <td>0.666236</td>\n",
       "      <td>NaN</td>\n",
       "      <td>NaN</td>\n",
       "      <td>0.666236</td>\n",
       "      <td>0.700794</td>\n",
       "    </tr>\n",
       "    <tr>\n",
       "      <th>10</th>\n",
       "      <td>NaN</td>\n",
       "      <td>30-50</td>\n",
       "      <td>NaN</td>\n",
       "      <td>7.76</td>\n",
       "      <td>5.2</td>\n",
       "      <td>12.96</td>\n",
       "      <td>2.492308</td>\n",
       "      <td>0.009795</td>\n",
       "      <td>0.024412</td>\n",
       "      <td>0.488248</td>\n",
       "      <td>NaN</td>\n",
       "      <td>NaN</td>\n",
       "      <td>0.488248</td>\n",
       "      <td>0.432196</td>\n",
       "    </tr>\n",
       "    <tr>\n",
       "      <th>11</th>\n",
       "      <td>NaN</td>\n",
       "      <td>50-100</td>\n",
       "      <td>NaN</td>\n",
       "      <td>7.18</td>\n",
       "      <td>5.2</td>\n",
       "      <td>12.38</td>\n",
       "      <td>2.380769</td>\n",
       "      <td>0.005165</td>\n",
       "      <td>0.012297</td>\n",
       "      <td>0.368910</td>\n",
       "      <td>NaN</td>\n",
       "      <td>NaN</td>\n",
       "      <td>0.368910</td>\n",
       "      <td>0.770189</td>\n",
       "    </tr>\n",
       "    <tr>\n",
       "      <th>12</th>\n",
       "      <td>6 (N4)</td>\n",
       "      <td>0-15</td>\n",
       "      <td>6.48</td>\n",
       "      <td>7.32</td>\n",
       "      <td>5.2</td>\n",
       "      <td>19.00</td>\n",
       "      <td>3.653846</td>\n",
       "      <td>0.015744</td>\n",
       "      <td>0.057527</td>\n",
       "      <td>0.862910</td>\n",
       "      <td>1.807701</td>\n",
       "      <td>180.770136</td>\n",
       "      <td>0.862910</td>\n",
       "      <td>0.581797</td>\n",
       "    </tr>\n",
       "    <tr>\n",
       "      <th>13</th>\n",
       "      <td>NaN</td>\n",
       "      <td>15-30</td>\n",
       "      <td>NaN</td>\n",
       "      <td>8.07</td>\n",
       "      <td>5.2</td>\n",
       "      <td>13.27</td>\n",
       "      <td>2.551923</td>\n",
       "      <td>0.008183</td>\n",
       "      <td>0.020883</td>\n",
       "      <td>0.313248</td>\n",
       "      <td>NaN</td>\n",
       "      <td>NaN</td>\n",
       "      <td>0.313248</td>\n",
       "      <td>0.316918</td>\n",
       "    </tr>\n",
       "    <tr>\n",
       "      <th>14</th>\n",
       "      <td>NaN</td>\n",
       "      <td>30-50</td>\n",
       "      <td>NaN</td>\n",
       "      <td>7.82</td>\n",
       "      <td>5.2</td>\n",
       "      <td>13.02</td>\n",
       "      <td>2.503846</td>\n",
       "      <td>0.008634</td>\n",
       "      <td>0.021619</td>\n",
       "      <td>0.432389</td>\n",
       "      <td>NaN</td>\n",
       "      <td>NaN</td>\n",
       "      <td>0.432389</td>\n",
       "      <td>0.170173</td>\n",
       "    </tr>\n",
       "    <tr>\n",
       "      <th>15</th>\n",
       "      <td>NaN</td>\n",
       "      <td>50-100</td>\n",
       "      <td>NaN</td>\n",
       "      <td>8.18</td>\n",
       "      <td>5.2</td>\n",
       "      <td>13.38</td>\n",
       "      <td>2.573077</td>\n",
       "      <td>0.003096</td>\n",
       "      <td>0.007966</td>\n",
       "      <td>0.199154</td>\n",
       "      <td>NaN</td>\n",
       "      <td>NaN</td>\n",
       "      <td>0.199154</td>\n",
       "      <td>0.687355</td>\n",
       "    </tr>\n",
       "    <tr>\n",
       "      <th>16</th>\n",
       "      <td>4 (O1)</td>\n",
       "      <td>0-15</td>\n",
       "      <td>6.86</td>\n",
       "      <td>7.26</td>\n",
       "      <td>5.2</td>\n",
       "      <td>19.32</td>\n",
       "      <td>3.715385</td>\n",
       "      <td>0.017798</td>\n",
       "      <td>0.066127</td>\n",
       "      <td>0.991912</td>\n",
       "      <td>2.975468</td>\n",
       "      <td>297.546777</td>\n",
       "      <td>NaN</td>\n",
       "      <td>NaN</td>\n",
       "    </tr>\n",
       "    <tr>\n",
       "      <th>17</th>\n",
       "      <td>NaN</td>\n",
       "      <td>15-30</td>\n",
       "      <td>NaN</td>\n",
       "      <td>7.80</td>\n",
       "      <td>5.2</td>\n",
       "      <td>13.00</td>\n",
       "      <td>2.500000</td>\n",
       "      <td>0.010431</td>\n",
       "      <td>0.026079</td>\n",
       "      <td>0.391178</td>\n",
       "      <td>NaN</td>\n",
       "      <td>NaN</td>\n",
       "      <td>NaN</td>\n",
       "      <td>NaN</td>\n",
       "    </tr>\n",
       "    <tr>\n",
       "      <th>18</th>\n",
       "      <td>NaN</td>\n",
       "      <td>30-50</td>\n",
       "      <td>NaN</td>\n",
       "      <td>7.35</td>\n",
       "      <td>5.2</td>\n",
       "      <td>12.55</td>\n",
       "      <td>2.413462</td>\n",
       "      <td>0.007639</td>\n",
       "      <td>0.018436</td>\n",
       "      <td>0.368719</td>\n",
       "      <td>NaN</td>\n",
       "      <td>NaN</td>\n",
       "      <td>NaN</td>\n",
       "      <td>NaN</td>\n",
       "    </tr>\n",
       "    <tr>\n",
       "      <th>19</th>\n",
       "      <td>NaN</td>\n",
       "      <td>50-100</td>\n",
       "      <td>NaN</td>\n",
       "      <td>7.82</td>\n",
       "      <td>5.2</td>\n",
       "      <td>13.02</td>\n",
       "      <td>2.503846</td>\n",
       "      <td>0.013208</td>\n",
       "      <td>0.033072</td>\n",
       "      <td>1.223659</td>\n",
       "      <td>NaN</td>\n",
       "      <td>NaN</td>\n",
       "      <td>NaN</td>\n",
       "      <td>NaN</td>\n",
       "    </tr>\n",
       "    <tr>\n",
       "      <th>20</th>\n",
       "      <td>5 (O2)</td>\n",
       "      <td>0-15</td>\n",
       "      <td>7.15</td>\n",
       "      <td>7.71</td>\n",
       "      <td>5.2</td>\n",
       "      <td>20.06</td>\n",
       "      <td>3.857692</td>\n",
       "      <td>0.016538</td>\n",
       "      <td>0.063799</td>\n",
       "      <td>0.956987</td>\n",
       "      <td>7.901677</td>\n",
       "      <td>790.167696</td>\n",
       "      <td>NaN</td>\n",
       "      <td>NaN</td>\n",
       "    </tr>\n",
       "    <tr>\n",
       "      <th>21</th>\n",
       "      <td>NaN</td>\n",
       "      <td>15-30</td>\n",
       "      <td>NaN</td>\n",
       "      <td>7.74</td>\n",
       "      <td>5.2</td>\n",
       "      <td>12.94</td>\n",
       "      <td>2.488462</td>\n",
       "      <td>0.028274</td>\n",
       "      <td>0.070358</td>\n",
       "      <td>1.055366</td>\n",
       "      <td>NaN</td>\n",
       "      <td>NaN</td>\n",
       "      <td>NaN</td>\n",
       "      <td>NaN</td>\n",
       "    </tr>\n",
       "    <tr>\n",
       "      <th>22</th>\n",
       "      <td>NaN</td>\n",
       "      <td>30-50</td>\n",
       "      <td>NaN</td>\n",
       "      <td>8.07</td>\n",
       "      <td>5.2</td>\n",
       "      <td>13.27</td>\n",
       "      <td>2.551923</td>\n",
       "      <td>0.010725</td>\n",
       "      <td>0.027370</td>\n",
       "      <td>0.547408</td>\n",
       "      <td>NaN</td>\n",
       "      <td>NaN</td>\n",
       "      <td>NaN</td>\n",
       "      <td>NaN</td>\n",
       "    </tr>\n",
       "    <tr>\n",
       "      <th>23</th>\n",
       "      <td>NaN</td>\n",
       "      <td>50-100</td>\n",
       "      <td>NaN</td>\n",
       "      <td>7.02</td>\n",
       "      <td>5.2</td>\n",
       "      <td>12.22</td>\n",
       "      <td>2.350000</td>\n",
       "      <td>0.075772</td>\n",
       "      <td>0.178064</td>\n",
       "      <td>5.341915</td>\n",
       "      <td>NaN</td>\n",
       "      <td>NaN</td>\n",
       "      <td>NaN</td>\n",
       "      <td>NaN</td>\n",
       "    </tr>\n",
       "    <tr>\n",
       "      <th>24</th>\n",
       "      <td>7 (O3)</td>\n",
       "      <td>0-15</td>\n",
       "      <td>6.84</td>\n",
       "      <td>7.81</td>\n",
       "      <td>5.2</td>\n",
       "      <td>19.85</td>\n",
       "      <td>3.817308</td>\n",
       "      <td>0.014966</td>\n",
       "      <td>0.057132</td>\n",
       "      <td>0.856973</td>\n",
       "      <td>2.760152</td>\n",
       "      <td>276.015201</td>\n",
       "      <td>NaN</td>\n",
       "      <td>NaN</td>\n",
       "    </tr>\n",
       "    <tr>\n",
       "      <th>25</th>\n",
       "      <td>NaN</td>\n",
       "      <td>15-30</td>\n",
       "      <td>NaN</td>\n",
       "      <td>8.00</td>\n",
       "      <td>5.2</td>\n",
       "      <td>13.20</td>\n",
       "      <td>2.538462</td>\n",
       "      <td>0.018405</td>\n",
       "      <td>0.046720</td>\n",
       "      <td>0.700794</td>\n",
       "      <td>NaN</td>\n",
       "      <td>NaN</td>\n",
       "      <td>NaN</td>\n",
       "      <td>NaN</td>\n",
       "    </tr>\n",
       "    <tr>\n",
       "      <th>26</th>\n",
       "      <td>NaN</td>\n",
       "      <td>30-50</td>\n",
       "      <td>NaN</td>\n",
       "      <td>7.55</td>\n",
       "      <td>5.2</td>\n",
       "      <td>12.75</td>\n",
       "      <td>2.451923</td>\n",
       "      <td>0.008813</td>\n",
       "      <td>0.021610</td>\n",
       "      <td>0.432196</td>\n",
       "      <td>NaN</td>\n",
       "      <td>NaN</td>\n",
       "      <td>NaN</td>\n",
       "      <td>NaN</td>\n",
       "    </tr>\n",
       "    <tr>\n",
       "      <th>27</th>\n",
       "      <td>NaN</td>\n",
       "      <td>50-100</td>\n",
       "      <td>NaN</td>\n",
       "      <td>6.79</td>\n",
       "      <td>5.2</td>\n",
       "      <td>11.99</td>\n",
       "      <td>2.305769</td>\n",
       "      <td>0.009544</td>\n",
       "      <td>0.022005</td>\n",
       "      <td>0.770189</td>\n",
       "      <td>NaN</td>\n",
       "      <td>NaN</td>\n",
       "      <td>NaN</td>\n",
       "      <td>NaN</td>\n",
       "    </tr>\n",
       "    <tr>\n",
       "      <th>28</th>\n",
       "      <td>8 (O4)</td>\n",
       "      <td>0-15</td>\n",
       "      <td>7.50</td>\n",
       "      <td>7.26</td>\n",
       "      <td>5.2</td>\n",
       "      <td>19.96</td>\n",
       "      <td>3.838462</td>\n",
       "      <td>0.010105</td>\n",
       "      <td>0.038786</td>\n",
       "      <td>0.581797</td>\n",
       "      <td>1.756244</td>\n",
       "      <td>175.624363</td>\n",
       "      <td>NaN</td>\n",
       "      <td>NaN</td>\n",
       "    </tr>\n",
       "    <tr>\n",
       "      <th>29</th>\n",
       "      <td>NaN</td>\n",
       "      <td>15-30</td>\n",
       "      <td>NaN</td>\n",
       "      <td>7.57</td>\n",
       "      <td>5.2</td>\n",
       "      <td>12.77</td>\n",
       "      <td>2.455769</td>\n",
       "      <td>0.008603</td>\n",
       "      <td>0.021128</td>\n",
       "      <td>0.316918</td>\n",
       "      <td>NaN</td>\n",
       "      <td>NaN</td>\n",
       "      <td>NaN</td>\n",
       "      <td>NaN</td>\n",
       "    </tr>\n",
       "    <tr>\n",
       "      <th>30</th>\n",
       "      <td>NaN</td>\n",
       "      <td>30-50</td>\n",
       "      <td>NaN</td>\n",
       "      <td>8.05</td>\n",
       "      <td>5.2</td>\n",
       "      <td>13.25</td>\n",
       "      <td>2.548077</td>\n",
       "      <td>0.003339</td>\n",
       "      <td>0.008509</td>\n",
       "      <td>0.170173</td>\n",
       "      <td>NaN</td>\n",
       "      <td>NaN</td>\n",
       "      <td>NaN</td>\n",
       "      <td>NaN</td>\n",
       "    </tr>\n",
       "    <tr>\n",
       "      <th>31</th>\n",
       "      <td>NaN</td>\n",
       "      <td>50-100</td>\n",
       "      <td>NaN</td>\n",
       "      <td>8.03</td>\n",
       "      <td>5.2</td>\n",
       "      <td>13.23</td>\n",
       "      <td>2.544231</td>\n",
       "      <td>0.006754</td>\n",
       "      <td>0.017184</td>\n",
       "      <td>0.687355</td>\n",
       "      <td>NaN</td>\n",
       "      <td>NaN</td>\n",
       "      <td>NaN</td>\n",
       "      <td>NaN</td>\n",
       "    </tr>\n",
       "  </tbody>\n",
       "</table>\n",
       "</div>"
      ],
      "text/plain": [
       "   Plot number Depth (cm)  pH (DI)  pH (soil)  Volume of soil / cm3  \\\n",
       "0       1 (N1)       0-15     7.04       6.85                   5.2   \n",
       "1          NaN      15-30      NaN       6.81                   5.2   \n",
       "2          NaN      30-50      NaN       6.93                   5.2   \n",
       "3          NaN     50-100      NaN       6.93                   5.2   \n",
       "4       2 (N2)       0-15     6.95       6.98                   5.2   \n",
       "5          NaN      15-30      NaN       7.37                   5.2   \n",
       "6          NaN      30-50      NaN       7.22                   5.2   \n",
       "7          NaN     50-100      NaN       6.99                   5.2   \n",
       "8       3 (N3)       0-15     7.55       7.55                   5.2   \n",
       "9          NaN      15-30      NaN       7.62                   5.2   \n",
       "10         NaN      30-50      NaN       7.76                   5.2   \n",
       "11         NaN     50-100      NaN       7.18                   5.2   \n",
       "12      6 (N4)       0-15     6.48       7.32                   5.2   \n",
       "13         NaN      15-30      NaN       8.07                   5.2   \n",
       "14         NaN      30-50      NaN       7.82                   5.2   \n",
       "15         NaN     50-100      NaN       8.18                   5.2   \n",
       "16      4 (O1)       0-15     6.86       7.26                   5.2   \n",
       "17         NaN      15-30      NaN       7.80                   5.2   \n",
       "18         NaN      30-50      NaN       7.35                   5.2   \n",
       "19         NaN     50-100      NaN       7.82                   5.2   \n",
       "20      5 (O2)       0-15     7.15       7.71                   5.2   \n",
       "21         NaN      15-30      NaN       7.74                   5.2   \n",
       "22         NaN      30-50      NaN       8.07                   5.2   \n",
       "23         NaN     50-100      NaN       7.02                   5.2   \n",
       "24      7 (O3)       0-15     6.84       7.81                   5.2   \n",
       "25         NaN      15-30      NaN       8.00                   5.2   \n",
       "26         NaN      30-50      NaN       7.55                   5.2   \n",
       "27         NaN     50-100      NaN       6.79                   5.2   \n",
       "28      8 (O4)       0-15     7.50       7.26                   5.2   \n",
       "29         NaN      15-30      NaN       7.57                   5.2   \n",
       "30         NaN      30-50      NaN       8.05                   5.2   \n",
       "31         NaN     50-100      NaN       8.03                   5.2   \n",
       "\n",
       "    Soil Mass /g  Soil bulk density (g/cm^3)  Soil carbon concentration (%)  \\\n",
       "0          19.09                    3.671154                       0.007118   \n",
       "1          12.01                    2.309615                       0.009523   \n",
       "2          12.13                    2.332692                       0.007094   \n",
       "3          12.13                    2.332692                       0.004971   \n",
       "4          19.13                    3.678846                       0.014484   \n",
       "5          12.57                    2.417308                       0.013333   \n",
       "6          12.42                    2.388462                       0.006523   \n",
       "7          12.19                    2.344231                       0.005990   \n",
       "8          20.30                    3.903846                       0.030674   \n",
       "9          12.82                    2.465385                       0.018016   \n",
       "10         12.96                    2.492308                       0.009795   \n",
       "11         12.38                    2.380769                       0.005165   \n",
       "12         19.00                    3.653846                       0.015744   \n",
       "13         13.27                    2.551923                       0.008183   \n",
       "14         13.02                    2.503846                       0.008634   \n",
       "15         13.38                    2.573077                       0.003096   \n",
       "16         19.32                    3.715385                       0.017798   \n",
       "17         13.00                    2.500000                       0.010431   \n",
       "18         12.55                    2.413462                       0.007639   \n",
       "19         13.02                    2.503846                       0.013208   \n",
       "20         20.06                    3.857692                       0.016538   \n",
       "21         12.94                    2.488462                       0.028274   \n",
       "22         13.27                    2.551923                       0.010725   \n",
       "23         12.22                    2.350000                       0.075772   \n",
       "24         19.85                    3.817308                       0.014966   \n",
       "25         13.20                    2.538462                       0.018405   \n",
       "26         12.75                    2.451923                       0.008813   \n",
       "27         11.99                    2.305769                       0.009544   \n",
       "28         19.96                    3.838462                       0.010105   \n",
       "29         12.77                    2.455769                       0.008603   \n",
       "30         13.25                    2.548077                       0.003339   \n",
       "31         13.23                    2.544231                       0.006754   \n",
       "\n",
       "    Soil carbon density (g/cm^3)  Soil Carbon Mass (g/cm2)  \\\n",
       "0                       0.026130                  0.391948   \n",
       "1                       0.021995                  0.329927   \n",
       "2                       0.016549                  0.330975   \n",
       "3                       0.011595                  0.289876   \n",
       "4                       0.053285                  0.799275   \n",
       "5                       0.032230                  0.483446   \n",
       "6                       0.015581                  0.311615   \n",
       "7                       0.014041                  0.421245   \n",
       "8                       0.119746                  1.796190   \n",
       "9                       0.044416                  0.666236   \n",
       "10                      0.024412                  0.488248   \n",
       "11                      0.012297                  0.368910   \n",
       "12                      0.057527                  0.862910   \n",
       "13                      0.020883                  0.313248   \n",
       "14                      0.021619                  0.432389   \n",
       "15                      0.007966                  0.199154   \n",
       "16                      0.066127                  0.991912   \n",
       "17                      0.026079                  0.391178   \n",
       "18                      0.018436                  0.368719   \n",
       "19                      0.033072                  1.223659   \n",
       "20                      0.063799                  0.956987   \n",
       "21                      0.070358                  1.055366   \n",
       "22                      0.027370                  0.547408   \n",
       "23                      0.178064                  5.341915   \n",
       "24                      0.057132                  0.856973   \n",
       "25                      0.046720                  0.700794   \n",
       "26                      0.021610                  0.432196   \n",
       "27                      0.022005                  0.770189   \n",
       "28                      0.038786                  0.581797   \n",
       "29                      0.021128                  0.316918   \n",
       "30                      0.008509                  0.170173   \n",
       "31                      0.017184                  0.687355   \n",
       "\n",
       "    Total soil carbon for each plot (g/cm^2)  \\\n",
       "0                                   1.342727   \n",
       "1                                        NaN   \n",
       "2                                        NaN   \n",
       "3                                        NaN   \n",
       "4                                   2.015581   \n",
       "5                                        NaN   \n",
       "6                                        NaN   \n",
       "7                                        NaN   \n",
       "8                                   3.319584   \n",
       "9                                        NaN   \n",
       "10                                       NaN   \n",
       "11                                       NaN   \n",
       "12                                  1.807701   \n",
       "13                                       NaN   \n",
       "14                                       NaN   \n",
       "15                                       NaN   \n",
       "16                                  2.975468   \n",
       "17                                       NaN   \n",
       "18                                       NaN   \n",
       "19                                       NaN   \n",
       "20                                  7.901677   \n",
       "21                                       NaN   \n",
       "22                                       NaN   \n",
       "23                                       NaN   \n",
       "24                                  2.760152   \n",
       "25                                       NaN   \n",
       "26                                       NaN   \n",
       "27                                       NaN   \n",
       "28                                  1.756244   \n",
       "29                                       NaN   \n",
       "30                                       NaN   \n",
       "31                                       NaN   \n",
       "\n",
       "    Total soil carbon for each plot (Mg/ha)       new       old  \n",
       "0                                134.272677  0.391948  0.991912  \n",
       "1                                       NaN  0.329927  0.391178  \n",
       "2                                       NaN  0.330975  0.368719  \n",
       "3                                       NaN  0.289876  1.223659  \n",
       "4                                201.558109  0.799275  0.956987  \n",
       "5                                       NaN  0.483446  1.055366  \n",
       "6                                       NaN  0.311615  0.547408  \n",
       "7                                       NaN  0.421245  5.341915  \n",
       "8                                331.958442  1.796190  0.856973  \n",
       "9                                       NaN  0.666236  0.700794  \n",
       "10                                      NaN  0.488248  0.432196  \n",
       "11                                      NaN  0.368910  0.770189  \n",
       "12                               180.770136  0.862910  0.581797  \n",
       "13                                      NaN  0.313248  0.316918  \n",
       "14                                      NaN  0.432389  0.170173  \n",
       "15                                      NaN  0.199154  0.687355  \n",
       "16                               297.546777       NaN       NaN  \n",
       "17                                      NaN       NaN       NaN  \n",
       "18                                      NaN       NaN       NaN  \n",
       "19                                      NaN       NaN       NaN  \n",
       "20                               790.167696       NaN       NaN  \n",
       "21                                      NaN       NaN       NaN  \n",
       "22                                      NaN       NaN       NaN  \n",
       "23                                      NaN       NaN       NaN  \n",
       "24                               276.015201       NaN       NaN  \n",
       "25                                      NaN       NaN       NaN  \n",
       "26                                      NaN       NaN       NaN  \n",
       "27                                      NaN       NaN       NaN  \n",
       "28                               175.624363       NaN       NaN  \n",
       "29                                      NaN       NaN       NaN  \n",
       "30                                      NaN       NaN       NaN  \n",
       "31                                      NaN       NaN       NaN  "
      ]
     },
     "execution_count": 349,
     "metadata": {},
     "output_type": "execute_result"
    }
   ],
   "source": [
    "df[\"new\"] = dfNew[\"Soil Carbon Mass (g/cm2)\"]\n",
    "df[\"old\"] = pd.Series(list(dfOld[\"Soil Carbon Mass (g/cm2)\"]))\n",
    "df"
   ]
  },
  {
   "cell_type": "code",
   "execution_count": 158,
   "metadata": {},
   "outputs": [
    {
     "name": "stderr",
     "output_type": "stream",
     "text": [
      "C:\\Users\\Chu\\anaconda3\\lib\\site-packages\\scipy\\stats\\_distn_infrastructure.py:1932: RuntimeWarning: invalid value encountered in less_equal\n",
      "  cond2 = cond0 & (x <= _a)\n"
     ]
    },
    {
     "data": {
      "text/plain": [
       "Text(0.5, 1.0, 'New Mangroves Q-Q Plot')"
      ]
     },
     "execution_count": 158,
     "metadata": {},
     "output_type": "execute_result"
    },
    {
     "data": {
      "image/png": "[encoded data removed]",
      "text/plain": [
       "<Figure size 432x288 with 1 Axes>"
      ]
     },
     "metadata": {
      "needs_background": "light"
     },
     "output_type": "display_data"
    }
   ],
   "source": [
    "stats.probplot(df['LnNew'], dist=\"norm\", plot=plt)\n",
    "plt.title(\"New Mangroves Q-Q Plot\")"
   ]
  },
  {
   "cell_type": "code",
   "execution_count": 159,
   "metadata": {},
   "outputs": [
    {
     "name": "stderr",
     "output_type": "stream",
     "text": [
      "C:\\Users\\Chu\\anaconda3\\lib\\site-packages\\scipy\\stats\\_distn_infrastructure.py:1932: RuntimeWarning: invalid value encountered in less_equal\n",
      "  cond2 = cond0 & (x <= _a)\n"
     ]
    },
    {
     "data": {
      "text/plain": [
       "Text(0.5, 1.0, 'Old Mangroves Q-Q Plot')"
      ]
     },
     "execution_count": 159,
     "metadata": {},
     "output_type": "execute_result"
    },
    {
     "data": {
      "image/png": "[encoded data removed]",
      "text/plain": [
       "<Figure size 432x288 with 1 Axes>"
      ]
     },
     "metadata": {
      "needs_background": "light"
     },
     "output_type": "display_data"
    }
   ],
   "source": [
    "stats.probplot(df['old'], dist=\"norm\", plot=plt)\n",
    "plt.title(\"Old Mangroves Q-Q Plot\")"
   ]
  },
  {
   "cell_type": "code",
   "execution_count": 357,
   "metadata": {},
   "outputs": [
    {
     "data": {
      "image/png": "[encoded data removed]",
      "text/plain": [
       "<Figure size 432x288 with 2 Axes>"
      ]
     },
     "metadata": {
      "needs_background": "light"
     },
     "output_type": "display_data"
    }
   ],
   "source": [
    "bp = df.hist(column=[\"new\", \"old\"])\n",
    "# bp.set_ylabel(\"Soil Carbon (g/$cm^3$)\")\n",
    "# bp.flatten()[0].set_xlabel(\"Soil Carbon (g/$cm^3$)\")\n",
    "# bp.flatten()[1].set_xlabel(\"Soil Carbon (g/$cm^3$)\")"
   ]
  },
  {
   "cell_type": "code",
   "execution_count": 325,
   "metadata": {},
   "outputs": [],
   "source": [
    "df[\"LnNew\"] = pd.Series(np.log(list(df[\"new\"])))\n",
    "df[\"LnOld\"] = pd.Series(np.log(list(df[\"old\"])))"
   ]
  },
  {
   "cell_type": "code",
   "execution_count": 226,
   "metadata": {},
   "outputs": [
    {
     "data": {
      "text/plain": [
       "MannwhitneyuResult(statistic=459.0, pvalue=0.2404282754165903)"
      ]
     },
     "execution_count": 226,
     "metadata": {},
     "output_type": "execute_result"
    }
   ],
   "source": [
    "stats.mannwhitneyu(df['LnNew'], df['LnOld'])"
   ]
  },
  {
   "cell_type": "code",
   "execution_count": 366,
   "metadata": {},
   "outputs": [
    {
     "ename": "ValueError",
     "evalue": "x must be a label or position",
     "output_type": "error",
     "traceback": [
      "\u001b[1;31m---------------------------------------------------------------------------\u001b[0m",
      "\u001b[1;31mValueError\u001b[0m                                Traceback (most recent call last)",
      "\u001b[1;32m<ipython-input-366-268f35f6c736>\u001b[0m in \u001b[0;36m<module>\u001b[1;34m\u001b[0m\n\u001b[1;32m----> 1\u001b[1;33m \u001b[0mdf\u001b[0m\u001b[1;33m.\u001b[0m\u001b[0mplot\u001b[0m\u001b[1;33m(\u001b[0m\u001b[0mpd\u001b[0m\u001b[1;33m.\u001b[0m\u001b[0mDataFrame\u001b[0m\u001b[1;33m(\u001b[0m\u001b[1;33m{\u001b[0m\u001b[1;34m\"a\"\u001b[0m\u001b[1;33m:\u001b[0m\u001b[1;33m[\u001b[0m\u001b[1;36m1.342727\u001b[0m\u001b[1;33m,\u001b[0m\u001b[1;36m2.015581\u001b[0m\u001b[1;33m,\u001b[0m\u001b[1;36m3.319584\u001b[0m\u001b[1;33m,\u001b[0m\u001b[1;36m1.807701\u001b[0m\u001b[1;33m]\u001b[0m\u001b[1;33m}\u001b[0m\u001b[1;33m)\u001b[0m\u001b[1;33m,\u001b[0m\u001b[0my\u001b[0m\u001b[1;33m=\u001b[0m\u001b[1;33m[\u001b[0m\u001b[1;36m1\u001b[0m\u001b[1;33m,\u001b[0m\u001b[1;36m2\u001b[0m\u001b[1;33m,\u001b[0m\u001b[1;36m3\u001b[0m\u001b[1;33m,\u001b[0m\u001b[1;36m4\u001b[0m\u001b[1;33m]\u001b[0m\u001b[1;33m,\u001b[0m \u001b[0mkind\u001b[0m\u001b[1;33m=\u001b[0m\u001b[1;34m\"barh\"\u001b[0m\u001b[1;33m)\u001b[0m\u001b[1;33m\u001b[0m\u001b[1;33m\u001b[0m\u001b[0m\n\u001b[0m",
      "\u001b[1;32m~\\anaconda3\\lib\\site-packages\\pandas\\plotting\\_core.py\u001b[0m in \u001b[0;36m__call__\u001b[1;34m(self, *args, **kwargs)\u001b[0m\n\u001b[0;32m    913\u001b[0m                     \u001b[0mx\u001b[0m \u001b[1;33m=\u001b[0m \u001b[0mdata_cols\u001b[0m\u001b[1;33m[\u001b[0m\u001b[0mx\u001b[0m\u001b[1;33m]\u001b[0m\u001b[1;33m\u001b[0m\u001b[1;33m\u001b[0m\u001b[0m\n\u001b[0;32m    914\u001b[0m                 \u001b[1;32melif\u001b[0m \u001b[1;32mnot\u001b[0m \u001b[0misinstance\u001b[0m\u001b[1;33m(\u001b[0m\u001b[0mdata\u001b[0m\u001b[1;33m[\u001b[0m\u001b[0mx\u001b[0m\u001b[1;33m]\u001b[0m\u001b[1;33m,\u001b[0m \u001b[0mABCSeries\u001b[0m\u001b[1;33m)\u001b[0m\u001b[1;33m:\u001b[0m\u001b[1;33m\u001b[0m\u001b[1;33m\u001b[0m\u001b[0m\n\u001b[1;32m--> 915\u001b[1;33m                     \u001b[1;32mraise\u001b[0m \u001b[0mValueError\u001b[0m\u001b[1;33m(\u001b[0m\u001b[1;34m\"x must be a label or position\"\u001b[0m\u001b[1;33m)\u001b[0m\u001b[1;33m\u001b[0m\u001b[1;33m\u001b[0m\u001b[0m\n\u001b[0m\u001b[0;32m    916\u001b[0m                 \u001b[0mdata\u001b[0m \u001b[1;33m=\u001b[0m \u001b[0mdata\u001b[0m\u001b[1;33m.\u001b[0m\u001b[0mset_index\u001b[0m\u001b[1;33m(\u001b[0m\u001b[0mx\u001b[0m\u001b[1;33m)\u001b[0m\u001b[1;33m\u001b[0m\u001b[1;33m\u001b[0m\u001b[0m\n\u001b[0;32m    917\u001b[0m             \u001b[1;32mif\u001b[0m \u001b[0my\u001b[0m \u001b[1;32mis\u001b[0m \u001b[1;32mnot\u001b[0m \u001b[1;32mNone\u001b[0m\u001b[1;33m:\u001b[0m\u001b[1;33m\u001b[0m\u001b[1;33m\u001b[0m\u001b[0m\n",
      "\u001b[1;31mValueError\u001b[0m: x must be a label or position"
     ]
    }
   ],
   "source": [
    "df.plot(pd.DataFrame({\"a\":[1.342727,2.015581,3.319584,1.807701]}), kind=\"barh\")"
   ]
  },
  {
   "cell_type": "code",
   "execution_count": 350,
   "metadata": {},
   "outputs": [
    {
     "data": {
      "text/plain": [
       "MannwhitneyuResult(statistic=5.0, pvalue=0.23524321102939483)"
      ]
     },
     "execution_count": 350,
     "metadata": {},
     "output_type": "execute_result"
    }
   ],
   "source": [
    "stats.mannwhitneyu([1.342727,2.015581,3.319584,1.807701], [2.975468,7.901677,2.760152,1.756244])"
   ]
  },
  {
   "cell_type": "code",
   "execution_count": 227,
   "metadata": {},
   "outputs": [],
   "source": [
    "firstNew = list(df.iloc[[0,4,8,12],][\"new\"])\n",
    "secondNew = list(df.iloc[[1,5,9,13],][\"new\"])\n",
    "thirdNew = list(df.iloc[[2,6,10,14],][\"new\"])\n",
    "fourthNew = list(df.iloc[[3,7,11,15],][\"new\"])\n",
    "\n",
    "firstOld = list(df.iloc[[0,4,8,12],][\"old\"])\n",
    "secondOld = list(df.iloc[[1,5,9,13],][\"old\"])\n",
    "thirdOld = list(df.iloc[[2,6,10,14],][\"old\"])\n",
    "fourthOld = list(df.iloc[[3,7,11,15],][\"old\"])\n"
   ]
  },
  {
   "cell_type": "code",
   "execution_count": 232,
   "metadata": {},
   "outputs": [],
   "source": [
    "a = list(df.iloc[[0,4,8,12],][\"Soil carbon concentration (%)\"])\n",
    "b = list(df.iloc[[1,5,9,13],][\"Soil carbon concentration (%)\"])\n",
    "c = list(df.iloc[[2,6,10,14],][\"Soil carbon concentration (%)\"])\n",
    "d = list(df.iloc[[3,7,11,15],][\"Soil carbon concentration (%)\"])\n",
    "\n",
    "aa = list(df.iloc[[16,20,24,28],][\"Soil carbon concentration (%)\"])\n",
    "bb = list(df.iloc[[17,21,25,29],][\"Soil carbon concentration (%)\"])\n",
    "cc = list(df.iloc[[18,22,26,30],][\"Soil carbon concentration (%)\"])\n",
    "dd = list(df.iloc[[19,23,27,31],][\"Soil carbon concentration (%)\"])\n",
    "\n",
    "q = list(df.iloc[[0,4,8,12],][\"Soil bulk density (g/cm^3)\"])\n",
    "w = list(df.iloc[[1,5,9,13],][\"Soil bulk density (g/cm^3)\"])\n",
    "e = list(df.iloc[[2,6,10,14],][\"Soil bulk density (g/cm^3)\"])\n",
    "r = list(df.iloc[[3,7,11,15],][\"Soil bulk density (g/cm^3)\"])\n",
    "\n",
    "qq = list(df.iloc[[16,20,24,28],][\"Soil bulk density (g/cm^3)\"])\n",
    "ww = list(df.iloc[[17,21,25,29],][\"Soil bulk density (g/cm^3)\"])\n",
    "ee = list(df.iloc[[18,22,26,30],][\"Soil bulk density (g/cm^3)\"])\n",
    "rr = list(df.iloc[[19,23,27,31],][\"Soil bulk density (g/cm^3)\"])\n",
    "\n",
    "z = list(df.iloc[[0,4,8,12],][\"Soil carbon density (g/cm^3)\"])\n",
    "x = list(df.iloc[[1,5,9,13],][\"Soil carbon density (g/cm^3)\"])\n",
    "n = list(df.iloc[[2,6,10,14],][\"Soil carbon density (g/cm^3)\"])\n",
    "v = list(df.iloc[[3,7,11,15],][\"Soil carbon density (g/cm^3)\"])\n",
    "\n",
    "zz = list(df.iloc[[16,20,24,28],][\"Soil carbon density (g/cm^3)\"])\n",
    "xx = list(df.iloc[[17,21,25,29],][\"Soil carbon density (g/cm^3)\"])\n",
    "nn = list(df.iloc[[18,22,26,30],][\"Soil carbon density (g/cm^3)\"])\n",
    "vv = list(df.iloc[[19,23,27,31],][\"Soil carbon density (g/cm^3)\"])"
   ]
  },
  {
   "cell_type": "code",
   "execution_count": 236,
   "metadata": {},
   "outputs": [],
   "source": [
    "def avg(a):\n",
    "    return sum(a)/len(a)\n",
    "\n",
    "bulkD_new = [avg(q), avg(w), avg(e), avg(r)]\n",
    "bulkD_old = [avg(qq), avg(ww), avg(ee), avg(rr)]\n",
    "soilCD_new = [avg(z), avg(x), avg(n), avg(v)]\n",
    "soilCD_old = [avg(zz), avg(xx), avg(nn), avg(vv)]\n",
    "soilCC_new = [avg(a), avg(b), avg(c), avg(d)]\n",
    "soilCC_old = [avg(aa), avg(bb), avg(cc), avg(dd)]"
   ]
  },
  {
   "cell_type": "code",
   "execution_count": 240,
   "metadata": {},
   "outputs": [],
   "source": [
    "bulkD = pd.DataFrame({\"New\":bulkD_new, \"Old\":bulkD_old})\n",
    "CarbC = pd.DataFrame({\"New\":soilCC_new, \"Old\":soilCC_old})\n",
    "CarbD = pd.DataFrame({\"New\":soilCD_new, \"Old\":soilCD_old})"
   ]
  },
  {
   "cell_type": "code",
   "execution_count": 247,
   "metadata": {},
   "outputs": [
    {
     "data": {
      "text/plain": [
       "<AxesSubplot:title={'center':'Bulk Density (g/$cm^3$)'}>"
      ]
     },
     "execution_count": 247,
     "metadata": {},
     "output_type": "execute_result"
    },
    {
     "data": {
      "image/png": "[encoded data removed]",
      "text/plain": [
       "<Figure size 432x288 with 1 Axes>"
      ]
     },
     "metadata": {
      "needs_background": "light"
     },
     "output_type": "display_data"
    }
   ],
   "source": [
    "bulkD.plot(title=\"Bulk Density (g/$cm^3$)\")"
   ]
  },
  {
   "cell_type": "code",
   "execution_count": 250,
   "metadata": {},
   "outputs": [
    {
     "data": {
      "text/plain": [
       "<AxesSubplot:title={'center':'Carbon Content (%)'}>"
      ]
     },
     "execution_count": 250,
     "metadata": {},
     "output_type": "execute_result"
    },
    {
     "data": {
      "image/png": "[encoded data removed]",
      "text/plain": [
       "<Figure size 432x288 with 1 Axes>"
      ]
     },
     "metadata": {
      "needs_background": "light"
     },
     "output_type": "display_data"
    }
   ],
   "source": [
    "CarbC.plot(title=\"Carbon Content (%)\")"
   ]
  },
  {
   "cell_type": "code",
   "execution_count": 249,
   "metadata": {},
   "outputs": [
    {
     "data": {
      "text/plain": [
       "<AxesSubplot:title={'center':'Carbon Density (g/$cm^3$)'}>"
      ]
     },
     "execution_count": 249,
     "metadata": {},
     "output_type": "execute_result"
    },
    {
     "data": {
      "image/png": "[encoded data removed]",
      "text/plain": [
       "<Figure size 432x288 with 1 Axes>"
      ]
     },
     "metadata": {
      "needs_background": "light"
     },
     "output_type": "display_data"
    }
   ],
   "source": [
    "CarbD.plot(title=\"Carbon Density (g/$cm^3$)\")"
   ]
  },
  {
   "cell_type": "code",
   "execution_count": 228,
   "metadata": {},
   "outputs": [],
   "source": [
    "df1 = pd.DataFrame({'New_1':firstNew, 'New_2':secondNew, 'New_3':thirdNew, 'New_4':fourthNew})\n",
    "df2 = pd.DataFrame({'Old_1':firstOld, 'Old_2':secondOld, 'Old_3':thirdOld, 'Old_4':fourthOld})"
   ]
  },
  {
   "cell_type": "code",
   "execution_count": 229,
   "metadata": {},
   "outputs": [
    {
     "data": {
      "text/html": [
       "<div>\n",
       "<style scoped>\n",
       "    .dataframe tbody tr th:only-of-type {\n",
       "        vertical-align: middle;\n",
       "    }\n",
       "\n",
       "    .dataframe tbody tr th {\n",
       "        vertical-align: top;\n",
       "    }\n",
       "\n",
       "    .dataframe thead th {\n",
       "        text-align: right;\n",
       "    }\n",
       "</style>\n",
       "<table border=\"1\" class=\"dataframe\">\n",
       "  <thead>\n",
       "    <tr style=\"text-align: right;\">\n",
       "      <th></th>\n",
       "      <th>New_1</th>\n",
       "      <th>New_2</th>\n",
       "      <th>New_3</th>\n",
       "      <th>New_4</th>\n",
       "    </tr>\n",
       "  </thead>\n",
       "  <tbody>\n",
       "    <tr>\n",
       "      <th>0</th>\n",
       "      <td>0.391948</td>\n",
       "      <td>0.329927</td>\n",
       "      <td>0.330975</td>\n",
       "      <td>0.289876</td>\n",
       "    </tr>\n",
       "    <tr>\n",
       "      <th>1</th>\n",
       "      <td>0.799275</td>\n",
       "      <td>0.483446</td>\n",
       "      <td>0.311615</td>\n",
       "      <td>0.421245</td>\n",
       "    </tr>\n",
       "    <tr>\n",
       "      <th>2</th>\n",
       "      <td>1.796190</td>\n",
       "      <td>0.666236</td>\n",
       "      <td>0.488248</td>\n",
       "      <td>0.368910</td>\n",
       "    </tr>\n",
       "    <tr>\n",
       "      <th>3</th>\n",
       "      <td>0.862910</td>\n",
       "      <td>0.313248</td>\n",
       "      <td>0.432389</td>\n",
       "      <td>0.199154</td>\n",
       "    </tr>\n",
       "  </tbody>\n",
       "</table>\n",
       "</div>"
      ],
      "text/plain": [
       "      New_1     New_2     New_3     New_4\n",
       "0  0.391948  0.329927  0.330975  0.289876\n",
       "1  0.799275  0.483446  0.311615  0.421245\n",
       "2  1.796190  0.666236  0.488248  0.368910\n",
       "3  0.862910  0.313248  0.432389  0.199154"
      ]
     },
     "execution_count": 229,
     "metadata": {},
     "output_type": "execute_result"
    }
   ],
   "source": [
    "df1"
   ]
  },
  {
   "cell_type": "code",
   "execution_count": 218,
   "metadata": {},
   "outputs": [
    {
     "data": {
      "text/html": [
       "<div>\n",
       "<style scoped>\n",
       "    .dataframe tbody tr th:only-of-type {\n",
       "        vertical-align: middle;\n",
       "    }\n",
       "\n",
       "    .dataframe tbody tr th {\n",
       "        vertical-align: top;\n",
       "    }\n",
       "\n",
       "    .dataframe thead th {\n",
       "        text-align: right;\n",
       "    }\n",
       "</style>\n",
       "<table border=\"1\" class=\"dataframe\">\n",
       "  <thead>\n",
       "    <tr style=\"text-align: right;\">\n",
       "      <th></th>\n",
       "      <th>New_1</th>\n",
       "      <th>New_2</th>\n",
       "      <th>New_3</th>\n",
       "      <th>New_4</th>\n",
       "      <th>Old_1</th>\n",
       "      <th>Old_2</th>\n",
       "      <th>Old_3</th>\n",
       "      <th>Old_4</th>\n",
       "    </tr>\n",
       "  </thead>\n",
       "  <tbody>\n",
       "    <tr>\n",
       "      <th>0</th>\n",
       "      <td>0.391948</td>\n",
       "      <td>0.329927</td>\n",
       "      <td>0.330975</td>\n",
       "      <td>0.289876</td>\n",
       "      <td>0.991912</td>\n",
       "      <td>0.391178</td>\n",
       "      <td>0.368719</td>\n",
       "      <td>1.223659</td>\n",
       "    </tr>\n",
       "    <tr>\n",
       "      <th>1</th>\n",
       "      <td>0.799275</td>\n",
       "      <td>0.483446</td>\n",
       "      <td>0.311615</td>\n",
       "      <td>0.421245</td>\n",
       "      <td>0.956987</td>\n",
       "      <td>1.055366</td>\n",
       "      <td>0.547408</td>\n",
       "      <td>5.341915</td>\n",
       "    </tr>\n",
       "    <tr>\n",
       "      <th>2</th>\n",
       "      <td>1.796190</td>\n",
       "      <td>0.666236</td>\n",
       "      <td>0.488248</td>\n",
       "      <td>0.368910</td>\n",
       "      <td>0.856973</td>\n",
       "      <td>0.700794</td>\n",
       "      <td>0.432196</td>\n",
       "      <td>0.770189</td>\n",
       "    </tr>\n",
       "    <tr>\n",
       "      <th>3</th>\n",
       "      <td>0.862910</td>\n",
       "      <td>0.313248</td>\n",
       "      <td>0.432389</td>\n",
       "      <td>0.199154</td>\n",
       "      <td>0.581797</td>\n",
       "      <td>0.316918</td>\n",
       "      <td>0.170173</td>\n",
       "      <td>0.687355</td>\n",
       "    </tr>\n",
       "  </tbody>\n",
       "</table>\n",
       "</div>"
      ],
      "text/plain": [
       "      New_1     New_2     New_3     New_4     Old_1     Old_2     Old_3  \\\n",
       "0  0.391948  0.329927  0.330975  0.289876  0.991912  0.391178  0.368719   \n",
       "1  0.799275  0.483446  0.311615  0.421245  0.956987  1.055366  0.547408   \n",
       "2  1.796190  0.666236  0.488248  0.368910  0.856973  0.700794  0.432196   \n",
       "3  0.862910  0.313248  0.432389  0.199154  0.581797  0.316918  0.170173   \n",
       "\n",
       "      Old_4  \n",
       "0  1.223659  \n",
       "1  5.341915  \n",
       "2  0.770189  \n",
       "3  0.687355  "
      ]
     },
     "execution_count": 218,
     "metadata": {},
     "output_type": "execute_result"
    }
   ],
   "source": [
    "df"
   ]
  },
  {
   "cell_type": "code",
   "execution_count": 4,
   "metadata": {},
   "outputs": [],
   "source": [
    "a = [1.014969267, 1.498290526, 1.832558436, 0.6914654673]\n",
    "b = [2.271915014, 3.071813829, 0.9941284083, 0.831471901]\n",
    "# c = [1,2,3,4]\n",
    "# m = pd.DataFrame({\"a\":a, \"b\":b, \"c\":c})\n",
    "# m.iloc[:,[0,1]].plot(title=\"AGB across plots\", xticks=m.iloc[:,2])"
   ]
  },
  {
   "cell_type": "code",
   "execution_count": 279,
   "metadata": {},
   "outputs": [
    {
     "data": {
      "text/plain": [
       "0    1\n",
       "1    2\n",
       "2    3\n",
       "3    4\n",
       "Name: c, dtype: int64"
      ]
     },
     "execution_count": 279,
     "metadata": {},
     "output_type": "execute_result"
    }
   ],
   "source": [
    "m.iloc[:,2]"
   ]
  },
  {
   "cell_type": "code",
   "execution_count": 5,
   "metadata": {},
   "outputs": [
    {
     "data": {
      "text/plain": [
       "MannwhitneyuResult(statistic=6.0, pvalue=0.33250277105101456)"
      ]
     },
     "execution_count": 5,
     "metadata": {},
     "output_type": "execute_result"
    }
   ],
   "source": [
    "stats.mannwhitneyu(a,b)"
   ]
  },
  {
   "cell_type": "code",
   "execution_count": null,
   "metadata": {},
   "outputs": [],
   "source": []
  }
 ],
 "metadata": {
  "kernelspec": {
   "display_name": "Python 3",
   "language": "python",
   "name": "python3"
  },
  "language_info": {
   "codemirror_mode": {
    "name": "ipython",
    "version": 3
   },
   "file_extension": ".py",
   "mimetype": "text/x-python",
   "name": "python",
   "nbconvert_exporter": "python",
   "pygments_lexer": "ipython3",
   "version": "3.7.9"
  }
 },
 "nbformat": 4,
 "nbformat_minor": 4
}
