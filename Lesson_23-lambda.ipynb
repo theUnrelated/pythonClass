{
 "cells": [
  {
   "cell_type": "markdown",
   "metadata": {},
   "source": [
    "# Lesson 23 - lambda\n",
    "This lesson will go through the basics of lambda\n",
    "\n",
    "## Recap\n",
    "\n",
    "try-catch - else, finally"
   ]
  },
  {
   "cell_type": "code",
   "execution_count": null,
   "metadata": {},
   "outputs": [],
   "source": []
  },
  {
   "cell_type": "markdown",
   "metadata": {},
   "source": [
    "Function parameters"
   ]
  },
  {
   "cell_type": "code",
   "execution_count": null,
   "metadata": {},
   "outputs": [],
   "source": []
  },
  {
   "cell_type": "markdown",
   "metadata": {},
   "source": [
    "list - create, access, modify"
   ]
  },
  {
   "cell_type": "code",
   "execution_count": null,
   "metadata": {},
   "outputs": [],
   "source": []
  },
  {
   "cell_type": "markdown",
   "metadata": {},
   "source": [
    "### lambda\n",
    "lumbda is basically a nameless function. <br>\n",
    "It is not only a convenient way to write functions, but is important in using higher-order functions in the future.\n",
    "\n",
    "Lets look at an example"
   ]
  },
  {
   "cell_type": "code",
   "execution_count": null,
   "metadata": {},
   "outputs": [],
   "source": [
    "# new_func = lambda x: x + 5"
   ]
  },
  {
   "cell_type": "markdown",
   "metadata": {},
   "source": [
    "Write the code above in the full function syntax"
   ]
  },
  {
   "cell_type": "code",
   "execution_count": null,
   "metadata": {},
   "outputs": [],
   "source": []
  },
  {
   "cell_type": "markdown",
   "metadata": {},
   "source": [
    "Using `lambda`s also lets us quickly code what we need <br>\n",
    "It is also used to create one-time use functions.<br>\n",
    "\n",
    "Lets try a few examples. "
   ]
  },
  {
   "cell_type": "code",
   "execution_count": null,
   "metadata": {},
   "outputs": [],
   "source": []
  },
  {
   "cell_type": "code",
   "execution_count": null,
   "metadata": {},
   "outputs": [],
   "source": []
  },
  {
   "cell_type": "markdown",
   "metadata": {},
   "source": [
    "Create a `lambda` function that finds out whether it is a even or odd number"
   ]
  },
  {
   "cell_type": "code",
   "execution_count": null,
   "metadata": {},
   "outputs": [],
   "source": []
  },
  {
   "cell_type": "markdown",
   "metadata": {},
   "source": [
    "Were you able to do it?  What are you missing?"
   ]
  },
  {
   "cell_type": "code",
   "execution_count": null,
   "metadata": {},
   "outputs": [],
   "source": []
  },
  {
   "cell_type": "markdown",
   "metadata": {},
   "source": [
    "`lambda` functions operate like any other functions...but easier! <br>\n",
    "\n",
    "lets add 4 numbers together!"
   ]
  },
  {
   "cell_type": "code",
   "execution_count": null,
   "metadata": {},
   "outputs": [],
   "source": []
  },
  {
   "cell_type": "markdown",
   "metadata": {},
   "source": [
    "### Exercise 1 \n",
    "\n",
    "Create a function that takes in a dictionary and outputs the total age of the students inside with `lambda`\n",
    "\n",
    "**Hint** Write the function out first then convert to `lambda` as much as you can"
   ]
  },
  {
   "cell_type": "code",
   "execution_count": null,
   "metadata": {},
   "outputs": [],
   "source": [
    "my_dict = {\"student_1\":{\"Name\":\"Lina\", \"Age\":9, \"Favourite subject\":\"Python\"}, \n",
    "          \"student_2\":{\"Name\":\"Johnny\", \"Age\":14, \"Favourite subject\":\"None\"},\n",
    "          \"student_3\":{\"Name\":\"Yuri\", \"Age\":15, \"Favourite subject\":\"Java\"},\n",
    "          \"student_4\":{\"Name\":\"Imran\", \"Age\":17, \"Favourite subject\":\"Math\"},\n",
    "          \"student_5\":{\"Name\":\"Wendy\", \"Age\":4, \"Favourite subject\":\"Drawing\"},\n",
    "          \"student_6\":{\"Name\":\"Sandy\", \"Age\":8, \"Favourite subject\":\"Scratch\"}}"
   ]
  },
  {
   "cell_type": "code",
   "execution_count": null,
   "metadata": {},
   "outputs": [],
   "source": []
  },
  {
   "cell_type": "markdown",
   "metadata": {},
   "source": [
    "### Exercise 2 - Nesting functions\n",
    "\n",
    "As with other forms of nesting, you can also code a lambda function to take in a function! <br>\n",
    "Now further simplify the code above with nesting."
   ]
  },
  {
   "cell_type": "code",
   "execution_count": null,
   "metadata": {},
   "outputs": [],
   "source": []
  },
  {
   "cell_type": "markdown",
   "metadata": {},
   "source": [
    "### Review\n",
    "- lambda functions"
   ]
  },
  {
   "cell_type": "code",
   "execution_count": null,
   "metadata": {},
   "outputs": [],
   "source": []
  }
 ],
 "metadata": {
  "kernelspec": {
   "display_name": "Python 3",
   "language": "python",
   "name": "python3"
  },
  "language_info": {
   "codemirror_mode": {
    "name": "ipython",
    "version": 3
   },
   "file_extension": ".py",
   "mimetype": "text/x-python",
   "name": "python",
   "nbconvert_exporter": "python",
   "pygments_lexer": "ipython3",
   "version": "3.7.9"
  }
 },
 "nbformat": 4,
 "nbformat_minor": 4
}
