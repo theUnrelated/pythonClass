{
 "cells": [
  {
   "cell_type": "markdown",
   "metadata": {},
   "source": [
    "# Lesson 36 - Merge Sort\n",
    "This lesson will introduce another sorting algorithm - merge sort\n",
    "\n",
    "## Recap\n",
    "\n",
    "Bubble sort"
   ]
  },
  {
   "cell_type": "code",
   "execution_count": null,
   "metadata": {},
   "outputs": [],
   "source": []
  },
  {
   "cell_type": "markdown",
   "metadata": {},
   "source": [
    "Higher Order functions"
   ]
  },
  {
   "cell_type": "code",
   "execution_count": null,
   "metadata": {},
   "outputs": [],
   "source": []
  },
  {
   "cell_type": "markdown",
   "metadata": {},
   "source": [
    "Recursion"
   ]
  },
  {
   "cell_type": "code",
   "execution_count": null,
   "metadata": {},
   "outputs": [],
   "source": []
  },
  {
   "cell_type": "markdown",
   "metadata": {},
   "source": [
    "### Merge Sort\n",
    "A divide and conquer algorithm where each part is broken down to its smallest. \n",
    "\n",
    "<img src=\"https://upload.wikimedia.org/wikipedia/commons/e/e6/Merge_sort_algorithm_diagram.svg\">"
   ]
  },
  {
   "cell_type": "code",
   "execution_count": null,
   "metadata": {},
   "outputs": [],
   "source": []
  },
  {
   "cell_type": "markdown",
   "metadata": {},
   "source": [
    "### Exercise 1 \n",
    "Run and trace the code and explain what each line is doing using comments. \n",
    "\n",
    "Then add, at relevant areas, the process that is taking place. E.g dividing, comparing, merging."
   ]
  },
  {
   "cell_type": "code",
   "execution_count": null,
   "metadata": {},
   "outputs": [],
   "source": [
    "# def mergeSort(nlist):\n",
    "#     if len(nlist)>1:\n",
    "#         mid = len(nlist)//2\n",
    "#         lefthalf = nlist[:mid]\n",
    "#         righthalf = nlist[mid:]\n",
    "#         mergeSort(lefthalf)\n",
    "#         mergeSort(righthalf)\n",
    "#         i=j=k=0       \n",
    "#         while i < len(lefthalf) and j < len(righthalf):\n",
    "#             if lefthalf[i] < righthalf[j]:\n",
    "#                 nlist[k]=lefthalf[i]\n",
    "#                 i=i+1\n",
    "#             else:\n",
    "#                 nlist[k]=righthalf[j]\n",
    "#                 j=j+1\n",
    "#             k=k+1\n",
    "\n",
    "#         while i < len(lefthalf):\n",
    "#             nlist[k]=lefthalf[i]\n",
    "#             i=i+1\n",
    "#             k=k+1\n",
    "\n",
    "#         while j < len(righthalf):\n",
    "#             nlist[k]=righthalf[j]\n",
    "#             j=j+1\n",
    "#             k=k+1\n",
    "\n",
    "# nlist = [65,25,34,14,13,17,22,99,87,63,32,12,63,54,26,82,12,12,12]\n",
    "# mergeSort(nlist)\n",
    "# print(nlist)"
   ]
  },
  {
   "cell_type": "markdown",
   "metadata": {},
   "source": [
    "### Exercise 2\n",
    "Copy, paste and modify the code above suvh tat"
   ]
  },
  {
   "cell_type": "code",
   "execution_count": null,
   "metadata": {},
   "outputs": [],
   "source": []
  },
  {
   "cell_type": "markdown",
   "metadata": {},
   "source": [
    "### Review\n",
    "- Merge sort algorithm"
   ]
  },
  {
   "cell_type": "code",
   "execution_count": null,
   "metadata": {},
   "outputs": [],
   "source": []
  }
 ],
 "metadata": {
  "kernelspec": {
   "display_name": "Python 3",
   "language": "python",
   "name": "python3"
  },
  "language_info": {
   "codemirror_mode": {
    "name": "ipython",
    "version": 3
   },
   "file_extension": ".py",
   "mimetype": "text/x-python",
   "name": "python",
   "nbconvert_exporter": "python",
   "pygments_lexer": "ipython3",
   "version": "3.7.9"
  }
 },
 "nbformat": 4,
 "nbformat_minor": 4
}
